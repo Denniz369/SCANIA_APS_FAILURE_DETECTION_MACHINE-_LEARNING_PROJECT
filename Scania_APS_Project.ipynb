{
 "cells": [
  {
   "cell_type": "code",
   "execution_count": 1,
   "metadata": {
    "id": "t1NBUQqjnOf9"
   },
   "outputs": [],
   "source": [
    "import pandas as pd\n",
    "import numpy as np"
   ]
  },
  {
   "cell_type": "code",
   "execution_count": 2,
   "metadata": {
    "id": "kxBHm7SGpoTS"
   },
   "outputs": [],
   "source": [
    "#load data\n",
    "dataset_path = \"train.csv\"\n",
    "df = pd.read_csv(dataset_path,na_values = \"na\")"
   ]
  },
  {
   "cell_type": "code",
   "execution_count": 3,
   "metadata": {
    "colab": {
     "base_uri": "https://localhost:8080/",
     "height": 443
    },
    "id": "MQuwGmjTDlar",
    "outputId": "b9f8da43-89d1-43fb-fdfb-84e18a070928"
   },
   "outputs": [
    {
     "data": {
      "text/html": [
       "<div>\n",
       "<style scoped>\n",
       "    .dataframe tbody tr th:only-of-type {\n",
       "        vertical-align: middle;\n",
       "    }\n",
       "\n",
       "    .dataframe tbody tr th {\n",
       "        vertical-align: top;\n",
       "    }\n",
       "\n",
       "    .dataframe thead th {\n",
       "        text-align: right;\n",
       "    }\n",
       "</style>\n",
       "<table border=\"1\" class=\"dataframe\">\n",
       "  <thead>\n",
       "    <tr style=\"text-align: right;\">\n",
       "      <th></th>\n",
       "      <th>class</th>\n",
       "      <th>aa_000</th>\n",
       "      <th>ab_000</th>\n",
       "      <th>ac_000</th>\n",
       "      <th>ad_000</th>\n",
       "      <th>ae_000</th>\n",
       "      <th>af_000</th>\n",
       "      <th>ag_000</th>\n",
       "      <th>ag_001</th>\n",
       "      <th>ag_002</th>\n",
       "      <th>...</th>\n",
       "      <th>ee_002</th>\n",
       "      <th>ee_003</th>\n",
       "      <th>ee_004</th>\n",
       "      <th>ee_005</th>\n",
       "      <th>ee_006</th>\n",
       "      <th>ee_007</th>\n",
       "      <th>ee_008</th>\n",
       "      <th>ee_009</th>\n",
       "      <th>ef_000</th>\n",
       "      <th>eg_000</th>\n",
       "    </tr>\n",
       "  </thead>\n",
       "  <tbody>\n",
       "    <tr>\n",
       "      <th>0</th>\n",
       "      <td>pos</td>\n",
       "      <td>153204</td>\n",
       "      <td>0.0</td>\n",
       "      <td>1.820000e+02</td>\n",
       "      <td>NaN</td>\n",
       "      <td>0.0</td>\n",
       "      <td>0.0</td>\n",
       "      <td>0.0</td>\n",
       "      <td>0.0</td>\n",
       "      <td>0.0</td>\n",
       "      <td>...</td>\n",
       "      <td>129862.0</td>\n",
       "      <td>26872.0</td>\n",
       "      <td>34044.0</td>\n",
       "      <td>22472.0</td>\n",
       "      <td>34362.0</td>\n",
       "      <td>0.0</td>\n",
       "      <td>0.0</td>\n",
       "      <td>0.0</td>\n",
       "      <td>0.0</td>\n",
       "      <td>0.0</td>\n",
       "    </tr>\n",
       "    <tr>\n",
       "      <th>1</th>\n",
       "      <td>pos</td>\n",
       "      <td>453236</td>\n",
       "      <td>NaN</td>\n",
       "      <td>2.926000e+03</td>\n",
       "      <td>NaN</td>\n",
       "      <td>0.0</td>\n",
       "      <td>0.0</td>\n",
       "      <td>0.0</td>\n",
       "      <td>0.0</td>\n",
       "      <td>222.0</td>\n",
       "      <td>...</td>\n",
       "      <td>7908038.0</td>\n",
       "      <td>3026002.0</td>\n",
       "      <td>5025350.0</td>\n",
       "      <td>2025766.0</td>\n",
       "      <td>1160638.0</td>\n",
       "      <td>533834.0</td>\n",
       "      <td>493800.0</td>\n",
       "      <td>6914.0</td>\n",
       "      <td>0.0</td>\n",
       "      <td>0.0</td>\n",
       "    </tr>\n",
       "    <tr>\n",
       "      <th>2</th>\n",
       "      <td>pos</td>\n",
       "      <td>72504</td>\n",
       "      <td>NaN</td>\n",
       "      <td>1.594000e+03</td>\n",
       "      <td>1052.0</td>\n",
       "      <td>0.0</td>\n",
       "      <td>0.0</td>\n",
       "      <td>0.0</td>\n",
       "      <td>244.0</td>\n",
       "      <td>178226.0</td>\n",
       "      <td>...</td>\n",
       "      <td>1432098.0</td>\n",
       "      <td>372252.0</td>\n",
       "      <td>527514.0</td>\n",
       "      <td>358274.0</td>\n",
       "      <td>332818.0</td>\n",
       "      <td>284178.0</td>\n",
       "      <td>3742.0</td>\n",
       "      <td>0.0</td>\n",
       "      <td>0.0</td>\n",
       "      <td>0.0</td>\n",
       "    </tr>\n",
       "    <tr>\n",
       "      <th>3</th>\n",
       "      <td>pos</td>\n",
       "      <td>762958</td>\n",
       "      <td>NaN</td>\n",
       "      <td>NaN</td>\n",
       "      <td>NaN</td>\n",
       "      <td>NaN</td>\n",
       "      <td>NaN</td>\n",
       "      <td>776.0</td>\n",
       "      <td>281128.0</td>\n",
       "      <td>2186308.0</td>\n",
       "      <td>...</td>\n",
       "      <td>NaN</td>\n",
       "      <td>NaN</td>\n",
       "      <td>NaN</td>\n",
       "      <td>NaN</td>\n",
       "      <td>NaN</td>\n",
       "      <td>NaN</td>\n",
       "      <td>NaN</td>\n",
       "      <td>NaN</td>\n",
       "      <td>NaN</td>\n",
       "      <td>NaN</td>\n",
       "    </tr>\n",
       "    <tr>\n",
       "      <th>4</th>\n",
       "      <td>pos</td>\n",
       "      <td>695994</td>\n",
       "      <td>NaN</td>\n",
       "      <td>NaN</td>\n",
       "      <td>NaN</td>\n",
       "      <td>NaN</td>\n",
       "      <td>NaN</td>\n",
       "      <td>0.0</td>\n",
       "      <td>0.0</td>\n",
       "      <td>0.0</td>\n",
       "      <td>...</td>\n",
       "      <td>1397742.0</td>\n",
       "      <td>495544.0</td>\n",
       "      <td>361646.0</td>\n",
       "      <td>28610.0</td>\n",
       "      <td>5130.0</td>\n",
       "      <td>212.0</td>\n",
       "      <td>0.0</td>\n",
       "      <td>0.0</td>\n",
       "      <td>NaN</td>\n",
       "      <td>NaN</td>\n",
       "    </tr>\n",
       "    <tr>\n",
       "      <th>...</th>\n",
       "      <td>...</td>\n",
       "      <td>...</td>\n",
       "      <td>...</td>\n",
       "      <td>...</td>\n",
       "      <td>...</td>\n",
       "      <td>...</td>\n",
       "      <td>...</td>\n",
       "      <td>...</td>\n",
       "      <td>...</td>\n",
       "      <td>...</td>\n",
       "      <td>...</td>\n",
       "      <td>...</td>\n",
       "      <td>...</td>\n",
       "      <td>...</td>\n",
       "      <td>...</td>\n",
       "      <td>...</td>\n",
       "      <td>...</td>\n",
       "      <td>...</td>\n",
       "      <td>...</td>\n",
       "      <td>...</td>\n",
       "      <td>...</td>\n",
       "    </tr>\n",
       "    <tr>\n",
       "      <th>36183</th>\n",
       "      <td>neg</td>\n",
       "      <td>153002</td>\n",
       "      <td>NaN</td>\n",
       "      <td>6.640000e+02</td>\n",
       "      <td>186.0</td>\n",
       "      <td>0.0</td>\n",
       "      <td>0.0</td>\n",
       "      <td>0.0</td>\n",
       "      <td>0.0</td>\n",
       "      <td>0.0</td>\n",
       "      <td>...</td>\n",
       "      <td>998500.0</td>\n",
       "      <td>566884.0</td>\n",
       "      <td>1290398.0</td>\n",
       "      <td>1218244.0</td>\n",
       "      <td>1019768.0</td>\n",
       "      <td>717762.0</td>\n",
       "      <td>898642.0</td>\n",
       "      <td>28588.0</td>\n",
       "      <td>0.0</td>\n",
       "      <td>0.0</td>\n",
       "    </tr>\n",
       "    <tr>\n",
       "      <th>36184</th>\n",
       "      <td>neg</td>\n",
       "      <td>2286</td>\n",
       "      <td>NaN</td>\n",
       "      <td>2.130707e+09</td>\n",
       "      <td>224.0</td>\n",
       "      <td>0.0</td>\n",
       "      <td>0.0</td>\n",
       "      <td>0.0</td>\n",
       "      <td>0.0</td>\n",
       "      <td>0.0</td>\n",
       "      <td>...</td>\n",
       "      <td>10578.0</td>\n",
       "      <td>6760.0</td>\n",
       "      <td>21126.0</td>\n",
       "      <td>68424.0</td>\n",
       "      <td>136.0</td>\n",
       "      <td>0.0</td>\n",
       "      <td>0.0</td>\n",
       "      <td>0.0</td>\n",
       "      <td>0.0</td>\n",
       "      <td>0.0</td>\n",
       "    </tr>\n",
       "    <tr>\n",
       "      <th>36185</th>\n",
       "      <td>neg</td>\n",
       "      <td>112</td>\n",
       "      <td>0.0</td>\n",
       "      <td>2.130706e+09</td>\n",
       "      <td>18.0</td>\n",
       "      <td>0.0</td>\n",
       "      <td>0.0</td>\n",
       "      <td>0.0</td>\n",
       "      <td>0.0</td>\n",
       "      <td>0.0</td>\n",
       "      <td>...</td>\n",
       "      <td>792.0</td>\n",
       "      <td>386.0</td>\n",
       "      <td>452.0</td>\n",
       "      <td>144.0</td>\n",
       "      <td>146.0</td>\n",
       "      <td>2622.0</td>\n",
       "      <td>0.0</td>\n",
       "      <td>0.0</td>\n",
       "      <td>0.0</td>\n",
       "      <td>0.0</td>\n",
       "    </tr>\n",
       "    <tr>\n",
       "      <th>36186</th>\n",
       "      <td>neg</td>\n",
       "      <td>80292</td>\n",
       "      <td>NaN</td>\n",
       "      <td>2.130706e+09</td>\n",
       "      <td>494.0</td>\n",
       "      <td>0.0</td>\n",
       "      <td>0.0</td>\n",
       "      <td>0.0</td>\n",
       "      <td>0.0</td>\n",
       "      <td>0.0</td>\n",
       "      <td>...</td>\n",
       "      <td>699352.0</td>\n",
       "      <td>222654.0</td>\n",
       "      <td>347378.0</td>\n",
       "      <td>225724.0</td>\n",
       "      <td>194440.0</td>\n",
       "      <td>165070.0</td>\n",
       "      <td>802280.0</td>\n",
       "      <td>388422.0</td>\n",
       "      <td>0.0</td>\n",
       "      <td>0.0</td>\n",
       "    </tr>\n",
       "    <tr>\n",
       "      <th>36187</th>\n",
       "      <td>neg</td>\n",
       "      <td>40222</td>\n",
       "      <td>NaN</td>\n",
       "      <td>6.980000e+02</td>\n",
       "      <td>628.0</td>\n",
       "      <td>0.0</td>\n",
       "      <td>0.0</td>\n",
       "      <td>0.0</td>\n",
       "      <td>0.0</td>\n",
       "      <td>0.0</td>\n",
       "      <td>...</td>\n",
       "      <td>440066.0</td>\n",
       "      <td>183200.0</td>\n",
       "      <td>344546.0</td>\n",
       "      <td>254068.0</td>\n",
       "      <td>225148.0</td>\n",
       "      <td>158304.0</td>\n",
       "      <td>170384.0</td>\n",
       "      <td>158.0</td>\n",
       "      <td>0.0</td>\n",
       "      <td>0.0</td>\n",
       "    </tr>\n",
       "  </tbody>\n",
       "</table>\n",
       "<p>36188 rows × 171 columns</p>\n",
       "</div>"
      ],
      "text/plain": [
       "      class  aa_000  ab_000        ac_000  ad_000  ae_000  af_000  ag_000  \\\n",
       "0       pos  153204     0.0  1.820000e+02     NaN     0.0     0.0     0.0   \n",
       "1       pos  453236     NaN  2.926000e+03     NaN     0.0     0.0     0.0   \n",
       "2       pos   72504     NaN  1.594000e+03  1052.0     0.0     0.0     0.0   \n",
       "3       pos  762958     NaN           NaN     NaN     NaN     NaN   776.0   \n",
       "4       pos  695994     NaN           NaN     NaN     NaN     NaN     0.0   \n",
       "...     ...     ...     ...           ...     ...     ...     ...     ...   \n",
       "36183   neg  153002     NaN  6.640000e+02   186.0     0.0     0.0     0.0   \n",
       "36184   neg    2286     NaN  2.130707e+09   224.0     0.0     0.0     0.0   \n",
       "36185   neg     112     0.0  2.130706e+09    18.0     0.0     0.0     0.0   \n",
       "36186   neg   80292     NaN  2.130706e+09   494.0     0.0     0.0     0.0   \n",
       "36187   neg   40222     NaN  6.980000e+02   628.0     0.0     0.0     0.0   \n",
       "\n",
       "         ag_001     ag_002  ...     ee_002     ee_003     ee_004     ee_005  \\\n",
       "0           0.0        0.0  ...   129862.0    26872.0    34044.0    22472.0   \n",
       "1           0.0      222.0  ...  7908038.0  3026002.0  5025350.0  2025766.0   \n",
       "2         244.0   178226.0  ...  1432098.0   372252.0   527514.0   358274.0   \n",
       "3      281128.0  2186308.0  ...        NaN        NaN        NaN        NaN   \n",
       "4           0.0        0.0  ...  1397742.0   495544.0   361646.0    28610.0   \n",
       "...         ...        ...  ...        ...        ...        ...        ...   \n",
       "36183       0.0        0.0  ...   998500.0   566884.0  1290398.0  1218244.0   \n",
       "36184       0.0        0.0  ...    10578.0     6760.0    21126.0    68424.0   \n",
       "36185       0.0        0.0  ...      792.0      386.0      452.0      144.0   \n",
       "36186       0.0        0.0  ...   699352.0   222654.0   347378.0   225724.0   \n",
       "36187       0.0        0.0  ...   440066.0   183200.0   344546.0   254068.0   \n",
       "\n",
       "          ee_006    ee_007    ee_008    ee_009  ef_000  eg_000  \n",
       "0        34362.0       0.0       0.0       0.0     0.0     0.0  \n",
       "1      1160638.0  533834.0  493800.0    6914.0     0.0     0.0  \n",
       "2       332818.0  284178.0    3742.0       0.0     0.0     0.0  \n",
       "3            NaN       NaN       NaN       NaN     NaN     NaN  \n",
       "4         5130.0     212.0       0.0       0.0     NaN     NaN  \n",
       "...          ...       ...       ...       ...     ...     ...  \n",
       "36183  1019768.0  717762.0  898642.0   28588.0     0.0     0.0  \n",
       "36184      136.0       0.0       0.0       0.0     0.0     0.0  \n",
       "36185      146.0    2622.0       0.0       0.0     0.0     0.0  \n",
       "36186   194440.0  165070.0  802280.0  388422.0     0.0     0.0  \n",
       "36187   225148.0  158304.0  170384.0     158.0     0.0     0.0  \n",
       "\n",
       "[36188 rows x 171 columns]"
      ]
     },
     "execution_count": 3,
     "metadata": {},
     "output_type": "execute_result"
    }
   ],
   "source": [
    "df"
   ]
  },
  {
   "cell_type": "code",
   "execution_count": 4,
   "metadata": {
    "colab": {
     "base_uri": "https://localhost:8080/"
    },
    "id": "71cd3WDRDpry",
    "outputId": "ec54b194-2dd8-4538-f58f-86544e1c6c7c"
   },
   "outputs": [
    {
     "name": "stdout",
     "output_type": "stream",
     "text": [
      "<class 'pandas.core.frame.DataFrame'>\n",
      "RangeIndex: 36188 entries, 0 to 36187\n",
      "Columns: 171 entries, class to eg_000\n",
      "dtypes: float64(169), int64(1), object(1)\n",
      "memory usage: 47.2+ MB\n"
     ]
    }
   ],
   "source": [
    "df.info()"
   ]
  },
  {
   "cell_type": "code",
   "execution_count": 5,
   "metadata": {
    "colab": {
     "base_uri": "https://localhost:8080/",
     "height": 349
    },
    "id": "6lEXI1uw3TSf",
    "outputId": "c8e7b30d-50e2-471e-e204-fcb8132af5ea"
   },
   "outputs": [
    {
     "data": {
      "text/html": [
       "<div>\n",
       "<style scoped>\n",
       "    .dataframe tbody tr th:only-of-type {\n",
       "        vertical-align: middle;\n",
       "    }\n",
       "\n",
       "    .dataframe tbody tr th {\n",
       "        vertical-align: top;\n",
       "    }\n",
       "\n",
       "    .dataframe thead th {\n",
       "        text-align: right;\n",
       "    }\n",
       "</style>\n",
       "<table border=\"1\" class=\"dataframe\">\n",
       "  <thead>\n",
       "    <tr style=\"text-align: right;\">\n",
       "      <th></th>\n",
       "      <th>aa_000</th>\n",
       "      <th>ab_000</th>\n",
       "      <th>ac_000</th>\n",
       "      <th>ad_000</th>\n",
       "      <th>ae_000</th>\n",
       "      <th>af_000</th>\n",
       "      <th>ag_000</th>\n",
       "      <th>ag_001</th>\n",
       "      <th>ag_002</th>\n",
       "      <th>ag_003</th>\n",
       "      <th>...</th>\n",
       "      <th>ee_002</th>\n",
       "      <th>ee_003</th>\n",
       "      <th>ee_004</th>\n",
       "      <th>ee_005</th>\n",
       "      <th>ee_006</th>\n",
       "      <th>ee_007</th>\n",
       "      <th>ee_008</th>\n",
       "      <th>ee_009</th>\n",
       "      <th>ef_000</th>\n",
       "      <th>eg_000</th>\n",
       "    </tr>\n",
       "  </thead>\n",
       "  <tbody>\n",
       "    <tr>\n",
       "      <th>count</th>\n",
       "      <td>3.618800e+04</td>\n",
       "      <td>8292.000000</td>\n",
       "      <td>3.404700e+04</td>\n",
       "      <td>2.698800e+04</td>\n",
       "      <td>34601.000000</td>\n",
       "      <td>34601.000000</td>\n",
       "      <td>3.580900e+04</td>\n",
       "      <td>3.580900e+04</td>\n",
       "      <td>3.580900e+04</td>\n",
       "      <td>3.580900e+04</td>\n",
       "      <td>...</td>\n",
       "      <td>3.580900e+04</td>\n",
       "      <td>3.580900e+04</td>\n",
       "      <td>3.580900e+04</td>\n",
       "      <td>3.580900e+04</td>\n",
       "      <td>3.580900e+04</td>\n",
       "      <td>3.580900e+04</td>\n",
       "      <td>3.580900e+04</td>\n",
       "      <td>3.580900e+04</td>\n",
       "      <td>34458.000000</td>\n",
       "      <td>34459.000000</td>\n",
       "    </tr>\n",
       "    <tr>\n",
       "      <th>mean</th>\n",
       "      <td>6.591016e+04</td>\n",
       "      <td>0.711770</td>\n",
       "      <td>3.535223e+08</td>\n",
       "      <td>3.185447e+05</td>\n",
       "      <td>7.234300</td>\n",
       "      <td>11.606543</td>\n",
       "      <td>1.952347e+02</td>\n",
       "      <td>1.508277e+03</td>\n",
       "      <td>1.250718e+04</td>\n",
       "      <td>1.156928e+05</td>\n",
       "      <td>...</td>\n",
       "      <td>4.853621e+05</td>\n",
       "      <td>2.293208e+05</td>\n",
       "      <td>4.837846e+05</td>\n",
       "      <td>4.401019e+05</td>\n",
       "      <td>3.686943e+05</td>\n",
       "      <td>3.718051e+05</td>\n",
       "      <td>1.485117e+05</td>\n",
       "      <td>8.897664e+03</td>\n",
       "      <td>0.083464</td>\n",
       "      <td>0.209234</td>\n",
       "    </tr>\n",
       "    <tr>\n",
       "      <th>std</th>\n",
       "      <td>1.641238e+05</td>\n",
       "      <td>3.054033</td>\n",
       "      <td>7.926486e+08</td>\n",
       "      <td>5.225398e+07</td>\n",
       "      <td>186.437282</td>\n",
       "      <td>234.405353</td>\n",
       "      <td>1.852862e+04</td>\n",
       "      <td>4.371360e+04</td>\n",
       "      <td>1.801543e+05</td>\n",
       "      <td>8.853380e+05</td>\n",
       "      <td>...</td>\n",
       "      <td>1.254188e+06</td>\n",
       "      <td>5.948054e+05</td>\n",
       "      <td>1.251106e+06</td>\n",
       "      <td>1.331837e+06</td>\n",
       "      <td>1.220688e+06</td>\n",
       "      <td>1.722483e+06</td>\n",
       "      <td>5.153265e+05</td>\n",
       "      <td>5.316375e+04</td>\n",
       "      <td>3.789020</td>\n",
       "      <td>8.613915</td>\n",
       "    </tr>\n",
       "    <tr>\n",
       "      <th>min</th>\n",
       "      <td>0.000000e+00</td>\n",
       "      <td>0.000000</td>\n",
       "      <td>0.000000e+00</td>\n",
       "      <td>0.000000e+00</td>\n",
       "      <td>0.000000</td>\n",
       "      <td>0.000000</td>\n",
       "      <td>0.000000e+00</td>\n",
       "      <td>0.000000e+00</td>\n",
       "      <td>0.000000e+00</td>\n",
       "      <td>0.000000e+00</td>\n",
       "      <td>...</td>\n",
       "      <td>0.000000e+00</td>\n",
       "      <td>0.000000e+00</td>\n",
       "      <td>0.000000e+00</td>\n",
       "      <td>0.000000e+00</td>\n",
       "      <td>0.000000e+00</td>\n",
       "      <td>0.000000e+00</td>\n",
       "      <td>0.000000e+00</td>\n",
       "      <td>0.000000e+00</td>\n",
       "      <td>0.000000</td>\n",
       "      <td>0.000000</td>\n",
       "    </tr>\n",
       "    <tr>\n",
       "      <th>25%</th>\n",
       "      <td>8.660000e+02</td>\n",
       "      <td>0.000000</td>\n",
       "      <td>1.600000e+01</td>\n",
       "      <td>2.400000e+01</td>\n",
       "      <td>0.000000</td>\n",
       "      <td>0.000000</td>\n",
       "      <td>0.000000e+00</td>\n",
       "      <td>0.000000e+00</td>\n",
       "      <td>0.000000e+00</td>\n",
       "      <td>0.000000e+00</td>\n",
       "      <td>...</td>\n",
       "      <td>2.986000e+03</td>\n",
       "      <td>1.190000e+03</td>\n",
       "      <td>2.732000e+03</td>\n",
       "      <td>3.680000e+03</td>\n",
       "      <td>5.660000e+02</td>\n",
       "      <td>1.180000e+02</td>\n",
       "      <td>0.000000e+00</td>\n",
       "      <td>0.000000e+00</td>\n",
       "      <td>0.000000</td>\n",
       "      <td>0.000000</td>\n",
       "    </tr>\n",
       "    <tr>\n",
       "      <th>50%</th>\n",
       "      <td>3.102600e+04</td>\n",
       "      <td>0.000000</td>\n",
       "      <td>1.520000e+02</td>\n",
       "      <td>1.280000e+02</td>\n",
       "      <td>0.000000</td>\n",
       "      <td>0.000000</td>\n",
       "      <td>0.000000e+00</td>\n",
       "      <td>0.000000e+00</td>\n",
       "      <td>0.000000e+00</td>\n",
       "      <td>0.000000e+00</td>\n",
       "      <td>...</td>\n",
       "      <td>2.378500e+05</td>\n",
       "      <td>1.137840e+05</td>\n",
       "      <td>2.263560e+05</td>\n",
       "      <td>1.952480e+05</td>\n",
       "      <td>9.559400e+04</td>\n",
       "      <td>4.296600e+04</td>\n",
       "      <td>4.278000e+03</td>\n",
       "      <td>0.000000e+00</td>\n",
       "      <td>0.000000</td>\n",
       "      <td>0.000000</td>\n",
       "    </tr>\n",
       "    <tr>\n",
       "      <th>75%</th>\n",
       "      <td>5.006850e+04</td>\n",
       "      <td>0.000000</td>\n",
       "      <td>9.640000e+02</td>\n",
       "      <td>4.320000e+02</td>\n",
       "      <td>0.000000</td>\n",
       "      <td>0.000000</td>\n",
       "      <td>0.000000e+00</td>\n",
       "      <td>0.000000e+00</td>\n",
       "      <td>0.000000e+00</td>\n",
       "      <td>0.000000e+00</td>\n",
       "      <td>...</td>\n",
       "      <td>4.470120e+05</td>\n",
       "      <td>2.222860e+05</td>\n",
       "      <td>4.748680e+05</td>\n",
       "      <td>4.103280e+05</td>\n",
       "      <td>2.791920e+05</td>\n",
       "      <td>1.706080e+05</td>\n",
       "      <td>1.432300e+05</td>\n",
       "      <td>2.018000e+03</td>\n",
       "      <td>0.000000</td>\n",
       "      <td>0.000000</td>\n",
       "    </tr>\n",
       "    <tr>\n",
       "      <th>max</th>\n",
       "      <td>2.746564e+06</td>\n",
       "      <td>100.000000</td>\n",
       "      <td>2.130707e+09</td>\n",
       "      <td>8.584298e+09</td>\n",
       "      <td>21050.000000</td>\n",
       "      <td>20070.000000</td>\n",
       "      <td>3.376892e+06</td>\n",
       "      <td>4.109372e+06</td>\n",
       "      <td>1.055286e+07</td>\n",
       "      <td>2.904730e+07</td>\n",
       "      <td>...</td>\n",
       "      <td>3.123272e+07</td>\n",
       "      <td>1.676929e+07</td>\n",
       "      <td>2.747758e+07</td>\n",
       "      <td>5.743524e+07</td>\n",
       "      <td>3.160781e+07</td>\n",
       "      <td>3.727856e+07</td>\n",
       "      <td>1.926740e+07</td>\n",
       "      <td>3.810078e+06</td>\n",
       "      <td>362.000000</td>\n",
       "      <td>1146.000000</td>\n",
       "    </tr>\n",
       "  </tbody>\n",
       "</table>\n",
       "<p>8 rows × 170 columns</p>\n",
       "</div>"
      ],
      "text/plain": [
       "             aa_000       ab_000        ac_000        ad_000        ae_000  \\\n",
       "count  3.618800e+04  8292.000000  3.404700e+04  2.698800e+04  34601.000000   \n",
       "mean   6.591016e+04     0.711770  3.535223e+08  3.185447e+05      7.234300   \n",
       "std    1.641238e+05     3.054033  7.926486e+08  5.225398e+07    186.437282   \n",
       "min    0.000000e+00     0.000000  0.000000e+00  0.000000e+00      0.000000   \n",
       "25%    8.660000e+02     0.000000  1.600000e+01  2.400000e+01      0.000000   \n",
       "50%    3.102600e+04     0.000000  1.520000e+02  1.280000e+02      0.000000   \n",
       "75%    5.006850e+04     0.000000  9.640000e+02  4.320000e+02      0.000000   \n",
       "max    2.746564e+06   100.000000  2.130707e+09  8.584298e+09  21050.000000   \n",
       "\n",
       "             af_000        ag_000        ag_001        ag_002        ag_003  \\\n",
       "count  34601.000000  3.580900e+04  3.580900e+04  3.580900e+04  3.580900e+04   \n",
       "mean      11.606543  1.952347e+02  1.508277e+03  1.250718e+04  1.156928e+05   \n",
       "std      234.405353  1.852862e+04  4.371360e+04  1.801543e+05  8.853380e+05   \n",
       "min        0.000000  0.000000e+00  0.000000e+00  0.000000e+00  0.000000e+00   \n",
       "25%        0.000000  0.000000e+00  0.000000e+00  0.000000e+00  0.000000e+00   \n",
       "50%        0.000000  0.000000e+00  0.000000e+00  0.000000e+00  0.000000e+00   \n",
       "75%        0.000000  0.000000e+00  0.000000e+00  0.000000e+00  0.000000e+00   \n",
       "max    20070.000000  3.376892e+06  4.109372e+06  1.055286e+07  2.904730e+07   \n",
       "\n",
       "       ...        ee_002        ee_003        ee_004        ee_005  \\\n",
       "count  ...  3.580900e+04  3.580900e+04  3.580900e+04  3.580900e+04   \n",
       "mean   ...  4.853621e+05  2.293208e+05  4.837846e+05  4.401019e+05   \n",
       "std    ...  1.254188e+06  5.948054e+05  1.251106e+06  1.331837e+06   \n",
       "min    ...  0.000000e+00  0.000000e+00  0.000000e+00  0.000000e+00   \n",
       "25%    ...  2.986000e+03  1.190000e+03  2.732000e+03  3.680000e+03   \n",
       "50%    ...  2.378500e+05  1.137840e+05  2.263560e+05  1.952480e+05   \n",
       "75%    ...  4.470120e+05  2.222860e+05  4.748680e+05  4.103280e+05   \n",
       "max    ...  3.123272e+07  1.676929e+07  2.747758e+07  5.743524e+07   \n",
       "\n",
       "             ee_006        ee_007        ee_008        ee_009        ef_000  \\\n",
       "count  3.580900e+04  3.580900e+04  3.580900e+04  3.580900e+04  34458.000000   \n",
       "mean   3.686943e+05  3.718051e+05  1.485117e+05  8.897664e+03      0.083464   \n",
       "std    1.220688e+06  1.722483e+06  5.153265e+05  5.316375e+04      3.789020   \n",
       "min    0.000000e+00  0.000000e+00  0.000000e+00  0.000000e+00      0.000000   \n",
       "25%    5.660000e+02  1.180000e+02  0.000000e+00  0.000000e+00      0.000000   \n",
       "50%    9.559400e+04  4.296600e+04  4.278000e+03  0.000000e+00      0.000000   \n",
       "75%    2.791920e+05  1.706080e+05  1.432300e+05  2.018000e+03      0.000000   \n",
       "max    3.160781e+07  3.727856e+07  1.926740e+07  3.810078e+06    362.000000   \n",
       "\n",
       "             eg_000  \n",
       "count  34459.000000  \n",
       "mean       0.209234  \n",
       "std        8.613915  \n",
       "min        0.000000  \n",
       "25%        0.000000  \n",
       "50%        0.000000  \n",
       "75%        0.000000  \n",
       "max     1146.000000  \n",
       "\n",
       "[8 rows x 170 columns]"
      ]
     },
     "execution_count": 5,
     "metadata": {},
     "output_type": "execute_result"
    }
   ],
   "source": [
    "df.describe()"
   ]
  },
  {
   "cell_type": "code",
   "execution_count": 6,
   "metadata": {
    "colab": {
     "base_uri": "https://localhost:8080/",
     "height": 178
    },
    "id": "0oQzziaoDyG8",
    "outputId": "a158cdc5-3a11-48dd-ad35-342d1af05745"
   },
   "outputs": [
    {
     "data": {
      "text/plain": [
       "class\n",
       "neg    35188\n",
       "pos     1000\n",
       "Name: count, dtype: int64"
      ]
     },
     "execution_count": 6,
     "metadata": {},
     "output_type": "execute_result"
    }
   ],
   "source": [
    "df['class'].value_counts()"
   ]
  },
  {
   "cell_type": "code",
   "execution_count": 7,
   "metadata": {
    "id": "erXp_QISHO5Q"
   },
   "outputs": [],
   "source": [
    "numerical_features = [feature for feature in df.columns if df[feature].dtype != 'O']\n",
    "categorical_features = [feature for feature in df.columns if df[feature].dtype == 'O']\n",
    "\n"
   ]
  },
  {
   "cell_type": "code",
   "execution_count": 8,
   "metadata": {
    "colab": {
     "base_uri": "https://localhost:8080/"
    },
    "id": "0VjkdgzCI5AC",
    "outputId": "3fa4484b-f286-4f0c-d66a-421d5f147735"
   },
   "outputs": [
    {
     "name": "stdout",
     "output_type": "stream",
     "text": [
      "we have 170 numerical feature : ['aa_000', 'ab_000', 'ac_000', 'ad_000', 'ae_000', 'af_000', 'ag_000', 'ag_001', 'ag_002', 'ag_003', 'ag_004', 'ag_005', 'ag_006', 'ag_007', 'ag_008', 'ag_009', 'ah_000', 'ai_000', 'aj_000', 'ak_000', 'al_000', 'am_0', 'an_000', 'ao_000', 'ap_000', 'aq_000', 'ar_000', 'as_000', 'at_000', 'au_000', 'av_000', 'ax_000', 'ay_000', 'ay_001', 'ay_002', 'ay_003', 'ay_004', 'ay_005', 'ay_006', 'ay_007', 'ay_008', 'ay_009', 'az_000', 'az_001', 'az_002', 'az_003', 'az_004', 'az_005', 'az_006', 'az_007', 'az_008', 'az_009', 'ba_000', 'ba_001', 'ba_002', 'ba_003', 'ba_004', 'ba_005', 'ba_006', 'ba_007', 'ba_008', 'ba_009', 'bb_000', 'bc_000', 'bd_000', 'be_000', 'bf_000', 'bg_000', 'bh_000', 'bi_000', 'bj_000', 'bk_000', 'bl_000', 'bm_000', 'bn_000', 'bo_000', 'bp_000', 'bq_000', 'br_000', 'bs_000', 'bt_000', 'bu_000', 'bv_000', 'bx_000', 'by_000', 'bz_000', 'ca_000', 'cb_000', 'cc_000', 'cd_000', 'ce_000', 'cf_000', 'cg_000', 'ch_000', 'ci_000', 'cj_000', 'ck_000', 'cl_000', 'cm_000', 'cn_000', 'cn_001', 'cn_002', 'cn_003', 'cn_004', 'cn_005', 'cn_006', 'cn_007', 'cn_008', 'cn_009', 'co_000', 'cp_000', 'cq_000', 'cr_000', 'cs_000', 'cs_001', 'cs_002', 'cs_003', 'cs_004', 'cs_005', 'cs_006', 'cs_007', 'cs_008', 'cs_009', 'ct_000', 'cu_000', 'cv_000', 'cx_000', 'cy_000', 'cz_000', 'da_000', 'db_000', 'dc_000', 'dd_000', 'de_000', 'df_000', 'dg_000', 'dh_000', 'di_000', 'dj_000', 'dk_000', 'dl_000', 'dm_000', 'dn_000', 'do_000', 'dp_000', 'dq_000', 'dr_000', 'ds_000', 'dt_000', 'du_000', 'dv_000', 'dx_000', 'dy_000', 'dz_000', 'ea_000', 'eb_000', 'ec_00', 'ed_000', 'ee_000', 'ee_001', 'ee_002', 'ee_003', 'ee_004', 'ee_005', 'ee_006', 'ee_007', 'ee_008', 'ee_009', 'ef_000', 'eg_000']\n",
      "we have 1 categorical feature : ['class']\n"
     ]
    }
   ],
   "source": [
    "print(f\"we have {len(numerical_features)} numerical feature : {numerical_features}\")\n",
    "print(f\"we have {len(categorical_features)} categorical feature : {categorical_features}\")"
   ]
  },
  {
   "cell_type": "markdown",
   "metadata": {
    "id": "RL3i23_0QsXF"
   },
   "source": []
  },
  {
   "cell_type": "code",
   "execution_count": 9,
   "metadata": {
    "colab": {
     "base_uri": "https://localhost:8080/",
     "height": 458
    },
    "id": "zvZJnzlMKGHt",
    "outputId": "28827002-6682-4fd5-9cb8-d5a41604bb7e"
   },
   "outputs": [
    {
     "data": {
      "text/plain": [
       "br_000    81.410965\n",
       "bq_000    80.501824\n",
       "bp_000    78.794075\n",
       "ab_000    77.086327\n",
       "cr_000    77.086327\n",
       "            ...    \n",
       "cj_000     0.560959\n",
       "ci_000     0.560959\n",
       "bt_000     0.237648\n",
       "aa_000     0.000000\n",
       "class      0.000000\n",
       "Length: 171, dtype: float64"
      ]
     },
     "execution_count": 9,
     "metadata": {},
     "output_type": "execute_result"
    }
   ],
   "source": [
    "#missing values %\n",
    "missing= ((df.isnull().sum() / len(df)) * 100).sort_values(ascending = False)\n",
    "missing"
   ]
  },
  {
   "cell_type": "code",
   "execution_count": 10,
   "metadata": {
    "colab": {
     "base_uri": "https://localhost:8080/",
     "height": 391
    },
    "id": "3FRbEBG2KmZg",
    "outputId": "40186ef1-823b-48ec-cb1b-5742a520fd4c"
   },
   "outputs": [
    {
     "data": {
      "image/png": "[encoded data removed]",
      "text/plain": [
       "<Figure size 1500x500 with 1 Axes>"
      ]
     },
     "metadata": {},
     "output_type": "display_data"
    }
   ],
   "source": [
    "import matplotlib.pyplot as plt\n",
    "\n",
    "fig,ax = plt.subplots(figsize = (15,5))\n",
    "\n",
    "ax.bar(missing.index,missing.values)\n",
    "plt.xticks([])\n",
    "plt.ylabel(\"percentage missing\")\n",
    "plt.show()"
   ]
  },
  {
   "cell_type": "code",
   "execution_count": 11,
   "metadata": {
    "colab": {
     "base_uri": "https://localhost:8080/",
     "height": 303
    },
    "id": "I91_k2-GVrIO",
    "outputId": "6e944741-0d74-4a0d-a229-345789613168"
   },
   "outputs": [
    {
     "data": {
      "text/plain": [
       "br_000    81.410965\n",
       "bq_000    80.501824\n",
       "bp_000    78.794075\n",
       "ab_000    77.086327\n",
       "cr_000    77.086327\n",
       "bo_000    76.533658\n",
       "bn_000    72.761689\n",
       "dtype: float64"
      ]
     },
     "execution_count": 11,
     "metadata": {},
     "output_type": "execute_result"
    }
   ],
   "source": [
    "# drop columns with missing values more than 70%\n",
    "\n",
    "dropcols = missing[missing > 70]\n",
    "dropcols"
   ]
  },
  {
   "cell_type": "code",
   "execution_count": 12,
   "metadata": {
    "id": "IxISWR6UZPo4"
   },
   "outputs": [],
   "source": [
    "# drop columns with missing values more than 70%\n",
    "\n",
    "df.drop(columns = dropcols.index, inplace = True)\n"
   ]
  },
  {
   "cell_type": "code",
   "execution_count": 13,
   "metadata": {
    "colab": {
     "base_uri": "https://localhost:8080/"
    },
    "id": "QaXOFfPFb_sE",
    "outputId": "0658bf84-017f-4fd4-b118-168c5842cd42"
   },
   "outputs": [
    {
     "data": {
      "text/plain": [
       "(36188, 164)"
      ]
     },
     "execution_count": 13,
     "metadata": {},
     "output_type": "execute_result"
    }
   ],
   "source": [
    "df.shape"
   ]
  },
  {
   "cell_type": "code",
   "execution_count": 14,
   "metadata": {
    "colab": {
     "base_uri": "https://localhost:8080/"
    },
    "id": "vhORER6hcBBA",
    "outputId": "a1733a39-728a-4b34-f349-bc06f722d1a2"
   },
   "outputs": [
    {
     "name": "stdout",
     "output_type": "stream",
     "text": [
      "Total percentage of missing values in the dataset: 5.37%\n"
     ]
    }
   ],
   "source": [
    "#check the total % of missing values of full dataset\n",
    "\n",
    "missing_percentage = (df.isnull().sum().sum() / (df.shape[0] * df.shape[1])) * 100\n",
    "print(f\"Total percentage of missing values in the dataset: {missing_percentage:.2f}%\")\n"
   ]
  },
  {
   "cell_type": "code",
   "execution_count": 15,
   "metadata": {
    "colab": {
     "base_uri": "https://localhost:8080/"
    },
    "id": "He6ZPaUBeNcf",
    "outputId": "bb56a801-e817-4ce9-80ec-08a8d4d9a003"
   },
   "outputs": [
    {
     "name": "stdout",
     "output_type": "stream",
     "text": [
      "Total percentage of missing values in the dataset: 5.37%\n"
     ]
    }
   ],
   "source": [
    " #another method to check the total % of missing values of full dataset\n",
    "\n",
    "missing_values_count = df.isnull().sum().sum()\n",
    "total_cells = np.product(df.shape)\n",
    "missing_percentage = (missing_values_count / total_cells) * 100\n",
    "print(f\"Total percentage of missing values in the dataset: {missing_percentage:.2f}%\")\n"
   ]
  },
  {
   "cell_type": "code",
   "execution_count": 16,
   "metadata": {
    "colab": {
     "base_uri": "https://localhost:8080/",
     "height": 36
    },
    "id": "VTekeVzoiMT8",
    "outputId": "06d0c02f-09fa-42f8-9d7e-0714a664dc54"
   },
   "outputs": [
    {
     "data": {
      "text/plain": [
       "'\\n1.imbalanced\\n2.missing values\\n3.oversampling\\n4.under sampling\\n5.SMOTE\\n\\n'"
      ]
     },
     "execution_count": 16,
     "metadata": {},
     "output_type": "execute_result"
    }
   ],
   "source": [
    "#problems we have observed\n",
    "\n",
    "\"\"\"\n",
    "1.imbalanced\n",
    "2.missing values\n",
    "3.oversampling\n",
    "4.under sampling\n",
    "5.SMOTE\n",
    "\n",
    "\"\"\"\n",
    "\n",
    "\n",
    "\n"
   ]
  },
  {
   "cell_type": "code",
   "execution_count": 17,
   "metadata": {
    "colab": {
     "base_uri": "https://localhost:8080/",
     "height": 590
    },
    "id": "500zRT6FeuHI",
    "outputId": "2cbc6061-4d62-4ac2-e3f9-e4255e2a63c3"
   },
   "outputs": [
    {
     "name": "stdout",
     "output_type": "stream",
     "text": [
      "positive samples: 1000\n",
      "negative samples: 35188\n"
     ]
    },
    {
     "name": "stderr",
     "output_type": "stream",
     "text": [
      "C:\\Users\\lenovo\\AppData\\Local\\Temp\\ipykernel_3348\\363211914.py:9: FutureWarning: \n",
      "\n",
      "Passing `palette` without assigning `hue` is deprecated and will be removed in v0.14.0. Assign the `x` variable to `hue` and set `legend=False` for the same effect.\n",
      "\n",
      "  sns.countplot(x=df['class'],palette=['blue','orange'])\n"
     ]
    },
    {
     "data": {
      "image/png": "[encoded data removed]",
      "text/plain": [
       "<Figure size 640x480 with 1 Axes>"
      ]
     },
     "metadata": {},
     "output_type": "display_data"
    }
   ],
   "source": [
    "import seaborn as sns\n",
    "\n",
    "pos = df[df['class'] == 'pos'].shape[0]\n",
    "neg = df[df['class'] == 'neg'].shape[0]\n",
    "\n",
    "print(f\"positive samples: {pos}\")\n",
    "print(f\"negative samples: {neg}\")\n",
    "\n",
    "sns.countplot(x=df['class'],palette=['blue','orange'])\n",
    "\n",
    "plt.show()"
   ]
  },
  {
   "cell_type": "code",
   "execution_count": 18,
   "metadata": {
    "id": "hu8JTGe3hKUo"
   },
   "outputs": [],
   "source": [
    "# split the data\n",
    "X = df.drop(columns = ['class'])\n",
    "y = df['class']"
   ]
  },
  {
   "cell_type": "code",
   "execution_count": 19,
   "metadata": {
    "id": "iNF6FsWZiYkz"
   },
   "outputs": [],
   "source": [
    "#manual encoding\n",
    "\n",
    "y=y.replace({'neg':0,'pos':1})"
   ]
  },
  {
   "cell_type": "markdown",
   "metadata": {
    "id": "qzlhu2tlQA9-"
   },
   "source": [
    "### We will use Imputer to take care of the null value\n",
    "\n",
    "### Next we Scale the data with any scaler as our choice(Robust, Min Max, Standard)"
   ]
  },
  {
   "cell_type": "markdown",
   "metadata": {
    "id": "33UyJ0tGQdrs"
   },
   "source": [
    "# KNNImputer\n",
    "\n",
    "### To use KNNImputer we need to find the best number of neighbors"
   ]
  },
  {
   "cell_type": "code",
   "execution_count": 20,
   "metadata": {
    "id": "gfyW1tdmihxt"
   },
   "outputs": [],
   "source": [
    "# Experiment 1: using KNN imputer for null values and Robust scaler\n",
    "\n",
    "from sklearn.preprocessing import RobustScaler, StandardScaler, MinMaxScaler\n",
    "robust_scale = RobustScaler()\n",
    "X1 = robust_scale.fit_transform(X) # transformed the data with robust scalling just to find best number of neighbors for KNNImputer\n"
   ]
  },
  {
   "cell_type": "markdown",
   "metadata": {
    "id": "AuLQduazRPG1"
   },
   "source": [
    "#### 1.) Below is a for loop with multiple options for n_neighbors\n",
    "#### 2.) Out of that we will choose the value with highest accuracy score\n"
   ]
  },
  {
   "cell_type": "code",
   "execution_count": 21,
   "metadata": {
    "colab": {
     "base_uri": "https://localhost:8080/"
    },
    "id": "uIO0I5Ucwhhs",
    "outputId": "a5d27754-9119-459f-fc85-f6240ea4ac71"
   },
   "outputs": [
    {
     "name": "stderr",
     "output_type": "stream",
     "text": [
      "  0%|          | 0/9 [00:00<?, ?it/s]"
     ]
    },
    {
     "name": "stdout",
     "output_type": "stream",
     "text": [
      "n_neighbors 2 || accuracy 0.7399414170443241\n"
     ]
    },
    {
     "name": "stderr",
     "output_type": "stream",
     "text": [
      " 22%|██▏       | 2/9 [12:18<42:55, 367.99s/it]"
     ]
    },
    {
     "name": "stdout",
     "output_type": "stream",
     "text": [
      "n_neighbors 3 || accuracy 0.7146291588371836\n"
     ]
    },
    {
     "name": "stderr",
     "output_type": "stream",
     "text": [
      " 33%|███▎      | 3/9 [18:31<37:00, 370.10s/it]"
     ]
    },
    {
     "name": "stdout",
     "output_type": "stream",
     "text": [
      "n_neighbors 4 || accuracy 0.7160108323201061\n"
     ]
    },
    {
     "name": "stderr",
     "output_type": "stream",
     "text": [
      " 44%|████▍     | 4/9 [25:27<32:22, 388.43s/it]"
     ]
    },
    {
     "name": "stdout",
     "output_type": "stream",
     "text": [
      "n_neighbors 5 || accuracy 0.7186636454073173\n"
     ]
    },
    {
     "name": "stderr",
     "output_type": "stream",
     "text": [
      " 56%|█████▌    | 5/9 [32:08<26:10, 392.71s/it]"
     ]
    },
    {
     "name": "stdout",
     "output_type": "stream",
     "text": [
      "n_neighbors 6 || accuracy 0.684398143030839\n"
     ]
    },
    {
     "name": "stderr",
     "output_type": "stream",
     "text": [
      " 67%|██████▋   | 6/9 [38:31<19:28, 389.64s/it]"
     ]
    },
    {
     "name": "stdout",
     "output_type": "stream",
     "text": [
      "n_neighbors 7 || accuracy 0.7118381784016801\n"
     ]
    },
    {
     "name": "stderr",
     "output_type": "stream",
     "text": [
      " 78%|███████▊  | 7/9 [45:00<12:58, 389.45s/it]"
     ]
    },
    {
     "name": "stdout",
     "output_type": "stream",
     "text": [
      "n_neighbors 8 || accuracy 0.6719078147452194\n"
     ]
    },
    {
     "name": "stderr",
     "output_type": "stream",
     "text": [
      " 89%|████████▉ | 8/9 [52:03<06:40, 400.06s/it]"
     ]
    },
    {
     "name": "stdout",
     "output_type": "stream",
     "text": [
      "n_neighbors 9 || accuracy 0.7211782911462363\n"
     ]
    },
    {
     "name": "stderr",
     "output_type": "stream",
     "text": [
      "100%|██████████| 9/9 [1:00:33<00:00, 403.70s/it]"
     ]
    },
    {
     "name": "stdout",
     "output_type": "stream",
     "text": [
      "n_neighbors 10 || accuracy 0.695506797833536\n"
     ]
    },
    {
     "name": "stderr",
     "output_type": "stream",
     "text": [
      "\n"
     ]
    }
   ],
   "source": [
    "from sklearn.impute import KNNImputer\n",
    "from tqdm import tqdm\n",
    "from statistics import mean\n",
    "from sklearn.pipeline import Pipeline\n",
    "from sklearn.linear_model import LogisticRegression\n",
    "from sklearn.metrics import accuracy_score, classification_report, confusion_matrix\n",
    "from sklearn.model_selection import cross_val_score\n",
    "result = []\n",
    "neighbours = [2,3,4,5,6,7,8,9,10]\n",
    "for i in tqdm(neighbours):\n",
    "  pipeline = Pipeline(steps=[\n",
    "      ('imputer', KNNImputer(n_neighbors=i)),\n",
    "      ('logistic', LogisticRegression()),\n",
    "  ])\n",
    "\n",
    "  scores  = cross_val_score(pipeline, X1, y, scoring='accuracy',n_jobs = -1,cv=2)\n",
    "  result.append(scores.mean())\n",
    "  print(f\"n_neighbors {i} || accuracy {mean(scores)}\")\n"
   ]
  },
  {
   "cell_type": "code",
   "execution_count": 22,
   "metadata": {
    "colab": {
     "base_uri": "https://localhost:8080/",
     "height": 467
    },
    "id": "OW3TsCur2A3S",
    "outputId": "342bbee8-c100-4b24-f304-8997e61cf3e5"
   },
   "outputs": [
    {
     "data": {
      "image/png": "[encoded data removed]",
      "text/plain": [
       "<Figure size 640x480 with 1 Axes>"
      ]
     },
     "metadata": {},
     "output_type": "display_data"
    },
    {
     "name": "stdout",
     "output_type": "stream",
     "text": [
      "n with highest accuracy is 2 with accuracy 0.7399414170443241\n"
     ]
    }
   ],
   "source": [
    "n = [2,3,4,5,6,7,8,9,10]\n",
    "\n",
    "plt.plot(n,result)\n",
    "plt.xlabel(\"n_neighbors\")\n",
    "plt.ylabel(\"accuracy\")\n",
    "plt.show()\n",
    "print(f\"n with highest accuracy is {n[result.index(max(result))]} with accuracy {max(result)}\")"
   ]
  },
  {
   "cell_type": "code",
   "execution_count": 23,
   "metadata": {
    "colab": {
     "base_uri": "https://localhost:8080/"
    },
    "id": "50585U5f-Xlj",
    "outputId": "24b0f34c-0dc0-4ee6-b669-89b58bfe639e"
   },
   "outputs": [
    {
     "name": "stdout",
     "output_type": "stream",
     "text": [
      "Requirement already satisfied: imblearn in c:\\users\\lenovo\\appdata\\local\\programs\\python\\python38\\lib\\site-packages (0.0)\n",
      "Requirement already satisfied: imbalanced-learn in c:\\users\\lenovo\\appdata\\local\\programs\\python\\python38\\lib\\site-packages (from imblearn) (0.12.3)\n",
      "Requirement already satisfied: numpy>=1.17.3 in c:\\users\\lenovo\\appdata\\local\\programs\\python\\python38\\lib\\site-packages (from imbalanced-learn->imblearn) (1.24.3)\n",
      "Requirement already satisfied: scipy>=1.5.0 in c:\\users\\lenovo\\appdata\\local\\programs\\python\\python38\\lib\\site-packages (from imbalanced-learn->imblearn) (1.10.1)\n",
      "Requirement already satisfied: scikit-learn>=1.0.2 in c:\\users\\lenovo\\appdata\\local\\programs\\python\\python38\\lib\\site-packages (from imbalanced-learn->imblearn) (1.3.2)\n",
      "Requirement already satisfied: joblib>=1.1.1 in c:\\users\\lenovo\\appdata\\local\\programs\\python\\python38\\lib\\site-packages (from imbalanced-learn->imblearn) (1.4.2)\n",
      "Requirement already satisfied: threadpoolctl>=2.0.0 in c:\\users\\lenovo\\appdata\\local\\programs\\python\\python38\\lib\\site-packages (from imbalanced-learn->imblearn) (3.5.0)\n"
     ]
    },
    {
     "name": "stderr",
     "output_type": "stream",
     "text": [
      "\n",
      "[notice] A new release of pip is available: 24.2 -> 24.3.1\n",
      "[notice] To update, run: python.exe -m pip install --upgrade pip\n"
     ]
    }
   ],
   "source": [
    "!pip install imblearn\n",
    "from sklearn.impute import KNNImputer\n",
    "from tqdm import tqdm\n",
    "from statistics import mean\n",
    "from sklearn.pipeline import Pipeline\n",
    "from sklearn.linear_model import LogisticRegression\n",
    "from sklearn.metrics import accuracy_score, classification_report, confusion_matrix\n",
    "from sklearn.model_selection import cross_val_score\n",
    "from imblearn.combine import SMOTETomek"
   ]
  },
  {
   "cell_type": "markdown",
   "metadata": {
    "id": "F2MU7r0sX4zJ"
   },
   "source": [
    "### We build a pipeline with KNNImputer followed by Robust scaler"
   ]
  },
  {
   "cell_type": "code",
   "execution_count": 24,
   "metadata": {
    "id": "wOgdbWnqGqay"
   },
   "outputs": [],
   "source": [
    "#pipeline for KNN imputer\n",
    "\n",
    "knn_pipeline = Pipeline(steps=[\n",
    "    ('imputer', KNNImputer(n_neighbors=2)),\n",
    "    ('robust_scaler', RobustScaler())\n",
    "])\n",
    "\n",
    "x_knn = knn_pipeline.fit_transform(X)\n"
   ]
  },
  {
   "cell_type": "markdown",
   "metadata": {
    "id": "iWQQH3HoYu1X"
   },
   "source": [
    "### SMOTETomek is used to handle the imbalace in the data\n",
    "\n",
    "\n",
    "#### negative class  - \t35188\n",
    "#### positive class  - \t1000"
   ]
  },
  {
   "cell_type": "code",
   "execution_count": 25,
   "metadata": {
    "colab": {
     "base_uri": "https://localhost:8080/"
    },
    "id": "UituoIYTLKvU",
    "outputId": "8bfb0202-6b05-4b85-cd7d-1fa23413090e"
   },
   "outputs": [
    {
     "name": "stderr",
     "output_type": "stream",
     "text": [
      "C:\\Users\\lenovo\\AppData\\Local\\Programs\\Python\\Python38\\lib\\site-packages\\imblearn\\over_sampling\\_smote\\base.py:370: FutureWarning: The parameter `n_jobs` has been deprecated in 0.10 and will be removed in 0.12. You can pass an nearest neighbors estimator where `n_jobs` is already set instead.\n",
      "  warnings.warn(\n"
     ]
    }
   ],
   "source": [
    "from imblearn.combine import SMOTETomek\n",
    "smt = SMOTETomek(random_state=101, sampling_strategy = 'minority',n_jobs=-1)\n",
    "x_res, y_res = smt.fit_resample(x_knn, y)"
   ]
  },
  {
   "cell_type": "code",
   "execution_count": 26,
   "metadata": {
    "colab": {
     "base_uri": "https://localhost:8080/"
    },
    "id": "1nD1RGpoJiK4",
    "outputId": "2791555f-accf-4190-b8dd-b14eea09a776"
   },
   "outputs": [
    {
     "name": "stdout",
     "output_type": "stream",
     "text": [
      "Requirement already satisfied: xgboost in c:\\users\\lenovo\\appdata\\local\\programs\\python\\python38\\lib\\site-packages (2.1.1)\n",
      "Requirement already satisfied: numpy in c:\\users\\lenovo\\appdata\\local\\programs\\python\\python38\\lib\\site-packages (from xgboost) (1.24.3)\n",
      "Requirement already satisfied: scipy in c:\\users\\lenovo\\appdata\\local\\programs\\python\\python38\\lib\\site-packages (from xgboost) (1.10.1)\n"
     ]
    },
    {
     "name": "stderr",
     "output_type": "stream",
     "text": [
      "\n",
      "[notice] A new release of pip is available: 24.2 -> 24.3.1\n",
      "[notice] To update, run: python.exe -m pip install --upgrade pip\n"
     ]
    }
   ],
   "source": [
    "# Importing algorithms\n",
    "!pip install xgboost\n",
    "from sklearn.neighbors import KNeighborsClassifier\n",
    "from sklearn.tree import DecisionTreeClassifier\n",
    "from sklearn.ensemble import RandomForestClassifier\n",
    "from sklearn.svm import SVC\n",
    "from sklearn.linear_model import LogisticRegression\n",
    "from xgboost import XGBClassifier as XGBclassifier\n",
    "\n",
    "models = {\"Random Forest\": RandomForestClassifier(),\n",
    "          \"Decision Tree\": DecisionTreeClassifier(),\n",
    "          \"XGBclassifier\": XGBclassifier(),\n",
    "          \"KNN classifier\": KNeighborsClassifier(),\n",
    "          \"SVM classifier\": SVC(),\n",
    "          \"Logistic classifier\": LogisticRegression()\n",
    "        }"
   ]
  },
  {
   "cell_type": "code",
   "execution_count": 27,
   "metadata": {
    "id": "Rpx0wOjecfRf"
   },
   "outputs": [],
   "source": [
    "# Create a function which will evaluate models\n",
    "\n",
    "from sklearn.model_selection import train_test_split\n",
    "from sklearn.metrics import accuracy_score, f1_score, precision_score, recall_score, roc_auc_score, confusion_matrix, classification_report\n",
    "\n",
    "def total_cost(y_true,y_pred):\n",
    "  tn,fp,fn,tp = confusion_matrix(y_true,y_pred).ravel()\n",
    "  cost = 10*fp + 500*fn  # cost function\n",
    "  return cost\n",
    "\n",
    "\n",
    "def evaluate_clf(true,predicted):\n",
    "\n",
    "  acc = accuracy_score(true,predicted)\n",
    "  f1 = f1_score(true,predicted)\n",
    "  precison = precision_score(true,predicted)\n",
    "  recall = recall_score(true,predicted)\n",
    "  roc_auc = roc_auc_score(true,predicted)\n",
    "  cm = confusion_matrix(true,predicted)\n",
    "  cr = classification_report(true,predicted)\n",
    "\n",
    "  return acc, f1, precison, recall, roc_auc, cm, cr\n",
    "\n",
    "def evaluate_models(X,y,models):\n",
    "  X_train,X_test,y_train,y_test = train_test_split(X,y,test_size=0.2,random_state=101)\n",
    "\n",
    "  cost_list = []\n",
    "  models_list = []\n",
    "\n",
    "  for i in range(len(list(models))):\n",
    "    model = list(models.values())[i]\n",
    "    model.fit(X_train,y_train)\n",
    "\n",
    "    #make prediction\n",
    "    y_train_pred = model.predict(X_train)\n",
    "    y_test_pred = model.predict(X_test)\n",
    "\n",
    "    #test set performance\n",
    "\n",
    "    acc, f1, precison, recall, roc_auc, cm, cr = evaluate_clf(y_test,y_test_pred)\n",
    "    test_cost = total_cost(y_test,y_test_pred)\n",
    "\n",
    "    print(list(models.keys())[i])\n",
    "\n",
    "\n",
    "\n",
    "    print(\"model performance for Test set\")\n",
    "    print(f\"Accuracy Score: {acc}\")\n",
    "    print(f\"F1 Score: {f1}\")\n",
    "    print(f\"Precision Score: {precison}\")\n",
    "    print(f\"Recall Score: {recall}\")\n",
    "    print(f\"ROC AUC Score: {roc_auc}\")\n",
    "    print(f\"Confusion Matrix: \\n{cm}\")\n",
    "    print(f\"Classification Report: \\n{cr}\")\n",
    "    print(f\"Total Cost: {test_cost}\")\n",
    "    print('*'*25)\n",
    "\n",
    "# Creating a report of Models and it's cost\n",
    "    cost_list.append(test_cost)\n",
    "    models_list.append(list(models.keys())[i])\n",
    "\n",
    "  report = pd.DataFrame(list(zip(models_list,cost_list)),columns=['Model Name','Cost']) # this creates a dataframe of list of the models and its cost\n",
    "\n",
    "  return report.sort_values(by = 'Cost')# this sorts the report in ascending order\n",
    "\n",
    "\n"
   ]
  },
  {
   "cell_type": "code",
   "execution_count": 28,
   "metadata": {
    "colab": {
     "base_uri": "https://localhost:8080/"
    },
    "id": "lZxIL_goJMRx",
    "outputId": "686906be-ba6b-45cc-9853-eca262304046"
   },
   "outputs": [
    {
     "name": "stdout",
     "output_type": "stream",
     "text": [
      "Random Forest\n",
      "model performance for Test set\n",
      "Accuracy Score: 0.9918026944187042\n",
      "F1 Score: 0.9918318062362385\n",
      "Precision Score: 0.9874133785886013\n",
      "Recall Score: 0.9962899543378996\n",
      "ROC AUC Score: 0.9918068486972221\n",
      "Confusion Matrix: \n",
      "[[6932   89]\n",
      " [  26 6982]]\n",
      "Classification Report: \n",
      "              precision    recall  f1-score   support\n",
      "\n",
      "           0       1.00      0.99      0.99      7021\n",
      "           1       0.99      1.00      0.99      7008\n",
      "\n",
      "    accuracy                           0.99     14029\n",
      "   macro avg       0.99      0.99      0.99     14029\n",
      "weighted avg       0.99      0.99      0.99     14029\n",
      "\n",
      "Total Cost: 13890\n",
      "*************************\n",
      "Decision Tree\n",
      "model performance for Test set\n",
      "Accuracy Score: 0.9842469171002922\n",
      "F1 Score: 0.9842917051673893\n",
      "Precision Score: 0.980597649058207\n",
      "Recall Score: 0.988013698630137\n",
      "ROC AUC Score: 0.9842504043642067\n",
      "Confusion Matrix: \n",
      "[[6884  137]\n",
      " [  84 6924]]\n",
      "Classification Report: \n",
      "              precision    recall  f1-score   support\n",
      "\n",
      "           0       0.99      0.98      0.98      7021\n",
      "           1       0.98      0.99      0.98      7008\n",
      "\n",
      "    accuracy                           0.98     14029\n",
      "   macro avg       0.98      0.98      0.98     14029\n",
      "weighted avg       0.98      0.98      0.98     14029\n",
      "\n",
      "Total Cost: 43370\n",
      "*************************\n",
      "XGBclassifier\n",
      "model performance for Test set\n",
      "Accuracy Score: 0.995224178487419\n",
      "F1 Score: 0.9952343694430614\n",
      "Precision Score: 0.9921996879875195\n",
      "Recall Score: 0.9982876712328768\n",
      "ROC AUC Score: 0.9952270146507639\n",
      "Confusion Matrix: \n",
      "[[6966   55]\n",
      " [  12 6996]]\n",
      "Classification Report: \n",
      "              precision    recall  f1-score   support\n",
      "\n",
      "           0       1.00      0.99      1.00      7021\n",
      "           1       0.99      1.00      1.00      7008\n",
      "\n",
      "    accuracy                           1.00     14029\n",
      "   macro avg       1.00      1.00      1.00     14029\n",
      "weighted avg       1.00      1.00      1.00     14029\n",
      "\n",
      "Total Cost: 6550\n",
      "*************************\n",
      "KNN classifier\n",
      "model performance for Test set\n",
      "Accuracy Score: 0.9718440373512011\n",
      "F1 Score: 0.9722280812768052\n",
      "Precision Score: 0.9582813582813583\n",
      "Recall Score: 0.9865867579908676\n",
      "ROC AUC Score: 0.9718576860741974\n",
      "Confusion Matrix: \n",
      "[[6720  301]\n",
      " [  94 6914]]\n",
      "Classification Report: \n",
      "              precision    recall  f1-score   support\n",
      "\n",
      "           0       0.99      0.96      0.97      7021\n",
      "           1       0.96      0.99      0.97      7008\n",
      "\n",
      "    accuracy                           0.97     14029\n",
      "   macro avg       0.97      0.97      0.97     14029\n",
      "weighted avg       0.97      0.97      0.97     14029\n",
      "\n",
      "Total Cost: 50010\n",
      "*************************\n",
      "SVM classifier\n",
      "model performance for Test set\n",
      "Accuracy Score: 0.7581438448927222\n",
      "F1 Score: 0.688972408103401\n",
      "Precision Score: 0.9633427326326582\n",
      "Recall Score: 0.536244292237443\n",
      "ROC AUC Score: 0.7579384116079682\n",
      "Confusion Matrix: \n",
      "[[6878  143]\n",
      " [3250 3758]]\n",
      "Classification Report: \n",
      "              precision    recall  f1-score   support\n",
      "\n",
      "           0       0.68      0.98      0.80      7021\n",
      "           1       0.96      0.54      0.69      7008\n",
      "\n",
      "    accuracy                           0.76     14029\n",
      "   macro avg       0.82      0.76      0.75     14029\n",
      "weighted avg       0.82      0.76      0.75     14029\n",
      "\n",
      "Total Cost: 1626430\n",
      "*************************\n",
      "Logistic classifier\n",
      "model performance for Test set\n",
      "Accuracy Score: 0.6031078480290826\n",
      "F1 Score: 0.7015757315896666\n",
      "Precision Score: 0.5618025751072961\n",
      "Recall Score: 0.9339326484018264\n",
      "ROC AUC Score: 0.6034141236596797\n",
      "Confusion Matrix: \n",
      "[[1916 5105]\n",
      " [ 463 6545]]\n",
      "Classification Report: \n",
      "              precision    recall  f1-score   support\n",
      "\n",
      "           0       0.81      0.27      0.41      7021\n",
      "           1       0.56      0.93      0.70      7008\n",
      "\n",
      "    accuracy                           0.60     14029\n",
      "   macro avg       0.68      0.60      0.55     14029\n",
      "weighted avg       0.68      0.60      0.55     14029\n",
      "\n",
      "Total Cost: 282550\n",
      "*************************\n"
     ]
    },
    {
     "name": "stderr",
     "output_type": "stream",
     "text": [
      "C:\\Users\\lenovo\\AppData\\Local\\Programs\\Python\\Python38\\lib\\site-packages\\sklearn\\linear_model\\_logistic.py:460: ConvergenceWarning: lbfgs failed to converge (status=1):\n",
      "STOP: TOTAL NO. of ITERATIONS REACHED LIMIT.\n",
      "\n",
      "Increase the number of iterations (max_iter) or scale the data as shown in:\n",
      "    https://scikit-learn.org/stable/modules/preprocessing.html\n",
      "Please also refer to the documentation for alternative solver options:\n",
      "    https://scikit-learn.org/stable/modules/linear_model.html#logistic-regression\n",
      "  n_iter_i = _check_optimize_result(\n"
     ]
    }
   ],
   "source": [
    "report_knn = evaluate_models(x_res,y_res,models)"
   ]
  },
  {
   "cell_type": "code",
   "execution_count": 29,
   "metadata": {
    "colab": {
     "base_uri": "https://localhost:8080/",
     "height": 237
    },
    "id": "2VhnwPx8i4rS",
    "outputId": "43591224-42cd-4cd6-efcd-cc75eb793d2f"
   },
   "outputs": [
    {
     "data": {
      "text/html": [
       "<div>\n",
       "<style scoped>\n",
       "    .dataframe tbody tr th:only-of-type {\n",
       "        vertical-align: middle;\n",
       "    }\n",
       "\n",
       "    .dataframe tbody tr th {\n",
       "        vertical-align: top;\n",
       "    }\n",
       "\n",
       "    .dataframe thead th {\n",
       "        text-align: right;\n",
       "    }\n",
       "</style>\n",
       "<table border=\"1\" class=\"dataframe\">\n",
       "  <thead>\n",
       "    <tr style=\"text-align: right;\">\n",
       "      <th></th>\n",
       "      <th>Model Name</th>\n",
       "      <th>Cost</th>\n",
       "    </tr>\n",
       "  </thead>\n",
       "  <tbody>\n",
       "    <tr>\n",
       "      <th>2</th>\n",
       "      <td>XGBclassifier</td>\n",
       "      <td>6550</td>\n",
       "    </tr>\n",
       "    <tr>\n",
       "      <th>0</th>\n",
       "      <td>Random Forest</td>\n",
       "      <td>13890</td>\n",
       "    </tr>\n",
       "    <tr>\n",
       "      <th>1</th>\n",
       "      <td>Decision Tree</td>\n",
       "      <td>43370</td>\n",
       "    </tr>\n",
       "    <tr>\n",
       "      <th>3</th>\n",
       "      <td>KNN classifier</td>\n",
       "      <td>50010</td>\n",
       "    </tr>\n",
       "    <tr>\n",
       "      <th>5</th>\n",
       "      <td>Logistic classifier</td>\n",
       "      <td>282550</td>\n",
       "    </tr>\n",
       "    <tr>\n",
       "      <th>4</th>\n",
       "      <td>SVM classifier</td>\n",
       "      <td>1626430</td>\n",
       "    </tr>\n",
       "  </tbody>\n",
       "</table>\n",
       "</div>"
      ],
      "text/plain": [
       "            Model Name     Cost\n",
       "2        XGBclassifier     6550\n",
       "0        Random Forest    13890\n",
       "1        Decision Tree    43370\n",
       "3       KNN classifier    50010\n",
       "5  Logistic classifier   282550\n",
       "4       SVM classifier  1626430"
      ]
     },
     "execution_count": 29,
     "metadata": {},
     "output_type": "execute_result"
    }
   ],
   "source": [
    "report_knn"
   ]
  },
  {
   "cell_type": "code",
   "execution_count": null,
   "metadata": {
    "colab": {
     "base_uri": "https://localhost:8080/",
     "height": 141
    },
    "id": "RUnduysYfrQ4",
    "outputId": "3dee8a42-e726-48ff-fdbe-1fbf7f8ff156"
   },
   "outputs": [],
   "source": []
  },
  {
   "cell_type": "markdown",
   "metadata": {
    "id": "NJpPdCufJVm0"
   },
   "source": [
    "## We will try with simple imputer\n",
    "\n",
    "### 1.) experiment - mean\n",
    "### 2.) experiment - median\n",
    "### 3.) experiment - constant 0"
   ]
  },
  {
   "cell_type": "code",
   "execution_count": 30,
   "metadata": {
    "id": "4INn_9yCY1IO"
   },
   "outputs": [],
   "source": [
    "#pipeline for replacing mean values for null and transforming with robust scaler\n",
    "\n",
    "from sklearn.impute import SimpleImputer\n",
    "from sklearn.preprocessing import RobustScaler, StandardScaler, MinMaxScaler\n",
    "mean_pipeline = Pipeline(steps=[\n",
    "    ('imputer', SimpleImputer(strategy='mean')),\n",
    "    ('robust_scaler', RobustScaler())\n",
    "])\n",
    "\n",
    "x_mean = mean_pipeline.fit_transform(X)"
   ]
  },
  {
   "cell_type": "code",
   "execution_count": 31,
   "metadata": {
    "colab": {
     "base_uri": "https://localhost:8080/"
    },
    "id": "d6N42Pp3ZZ7E",
    "outputId": "eb111161-d6de-45a8-dc8b-a41f23c4943f"
   },
   "outputs": [
    {
     "name": "stderr",
     "output_type": "stream",
     "text": [
      "C:\\Users\\lenovo\\AppData\\Local\\Programs\\Python\\Python38\\lib\\site-packages\\imblearn\\over_sampling\\_smote\\base.py:370: FutureWarning: The parameter `n_jobs` has been deprecated in 0.10 and will be removed in 0.12. You can pass an nearest neighbors estimator where `n_jobs` is already set instead.\n",
      "  warnings.warn(\n"
     ]
    }
   ],
   "source": [
    "from imblearn.combine import SMOTETomek\n",
    "smt = SMOTETomek(random_state=101, sampling_strategy = 'minority',n_jobs=-1)\n",
    "x_res_mean, y_res_mean = smt.fit_resample(x_mean, y)"
   ]
  },
  {
   "cell_type": "code",
   "execution_count": 32,
   "metadata": {
    "id": "GiCIq-_daWmH"
   },
   "outputs": [],
   "source": [
    "from sklearn.neighbors import KNeighborsClassifier\n",
    "from sklearn.tree import DecisionTreeClassifier\n",
    "from sklearn.ensemble import RandomForestClassifier\n",
    "from sklearn.svm import SVC\n",
    "from sklearn.linear_model import LogisticRegression\n",
    "from xgboost import XGBClassifier as XGBclassifier\n",
    "\n",
    "models = {\"Random Forest\": RandomForestClassifier(),\n",
    "          \"Decision Tree\": DecisionTreeClassifier(),\n",
    "          \"XGBclassifier\": XGBclassifier(),\n",
    "          \"KNN classifier\": KNeighborsClassifier(),\n",
    "          \"SVM classifier\": SVC(),\n",
    "          \"Logistic classifier\": LogisticRegression()\n",
    "        }"
   ]
  },
  {
   "cell_type": "code",
   "execution_count": 33,
   "metadata": {
    "id": "JaucffzCayde"
   },
   "outputs": [],
   "source": [
    "# Create a function which will \"evaluate models\"\n",
    "\n",
    "from sklearn.model_selection import train_test_split\n",
    "from sklearn.metrics import accuracy_score, f1_score, precision_score, recall_score, roc_auc_score, confusion_matrix, classification_report\n",
    "\n",
    "def total_cost(y_true,y_pred):\n",
    "  tn,fp,fn,tp = confusion_matrix(y_true,y_pred).ravel()\n",
    "  cost = 10*fp + 500*fn            #we are adding weight in cost function for false positive and false negative and escpecially fn because in this use case we should reduce it as much as possible\n",
    "  return cost\n",
    "\n",
    "\n",
    "def evaluate_clf(true,predicted):\n",
    "\n",
    "  acc = accuracy_score(true,predicted)\n",
    "  f1 = f1_score(true,predicted)\n",
    "  precison = precision_score(true,predicted)\n",
    "  recall = recall_score(true,predicted)\n",
    "  roc_auc = roc_auc_score(true,predicted)\n",
    "  cm = confusion_matrix(true,predicted)\n",
    "  cr = classification_report(true,predicted)\n",
    "\n",
    "  return acc, f1, precison, recall, roc_auc, cm, cr\n",
    "\n",
    "def evaluate_models(X,y,models):\n",
    "  X_train,X_test,y_train,y_test = train_test_split(X,y,test_size=0.2,random_state=101)\n",
    "\n",
    "  cost_list = []\n",
    "  models_list = []\n",
    "\n",
    "  for i in range(len(list(models))):\n",
    "    model = list(models.values())[i]\n",
    "    model.fit(X_train,y_train)\n",
    "\n",
    "    #make prediction\n",
    "    y_train_pred = model.predict(X_train)\n",
    "    y_test_pred = model.predict(X_test)\n",
    "\n",
    "    #test set performance\n",
    "\n",
    "    acc, f1, precison, recall, roc_auc, cm, cr = evaluate_clf(y_test,y_test_pred)\n",
    "    test_cost = total_cost(y_test,y_test_pred)\n",
    "\n",
    "    print(list(models.keys())[i])\n",
    "    models_list.append(list(models.keys())[i])\n",
    "\n",
    "\n",
    "    print(\"model performance for Test set\")\n",
    "    print(f\"Accuracy Score: {acc}\")\n",
    "    print(f\"F1 Score: {f1}\")\n",
    "    print(f\"Precision Score: {precison}\")\n",
    "    print(f\"Recall Score: {recall}\")\n",
    "    print(f\"ROC AUC Score: {roc_auc}\")\n",
    "    print(f\"Confusion Matrix: \\n{cm}\")\n",
    "    print(f\"Classification Report: \\n{cr}\")\n",
    "    print(f\"Total Cost: {test_cost}\")\n",
    "    cost_list.append(test_cost)\n",
    "    print('*'*25)\n",
    "\n",
    "  report = pd.DataFrame(list(zip(models_list,cost_list)),columns=['Model Name','Cost'])\n",
    "\n",
    "  return report.sort_values(by = 'Cost')\n",
    "\n",
    "\n"
   ]
  },
  {
   "cell_type": "code",
   "execution_count": 34,
   "metadata": {
    "colab": {
     "base_uri": "https://localhost:8080/"
    },
    "id": "RBZOPgy7bN1O",
    "outputId": "127c3732-f839-4297-85f1-a107c02317c1"
   },
   "outputs": [
    {
     "name": "stdout",
     "output_type": "stream",
     "text": [
      "Random Forest\n",
      "model performance for Test set\n",
      "Accuracy Score: 0.9918061987887424\n",
      "F1 Score: 0.99185955970836\n",
      "Precision Score: 0.986204954954955\n",
      "Recall Score: 0.9975793820304714\n",
      "ROC AUC Score: 0.991801670479012\n",
      "Confusion Matrix: \n",
      "[[6914   98]\n",
      " [  17 7006]]\n",
      "Classification Report: \n",
      "              precision    recall  f1-score   support\n",
      "\n",
      "           0       1.00      0.99      0.99      7012\n",
      "           1       0.99      1.00      0.99      7023\n",
      "\n",
      "    accuracy                           0.99     14035\n",
      "   macro avg       0.99      0.99      0.99     14035\n",
      "weighted avg       0.99      0.99      0.99     14035\n",
      "\n",
      "Total Cost: 9480\n",
      "*************************\n",
      "Decision Tree\n",
      "model performance for Test set\n",
      "Accuracy Score: 0.9845386533665835\n",
      "F1 Score: 0.9846306395637084\n",
      "Precision Score: 0.97956595264938\n",
      "Recall Score: 0.9897479709525844\n",
      "ROC AUC Score: 0.9845345673359615\n",
      "Confusion Matrix: \n",
      "[[6867  145]\n",
      " [  72 6951]]\n",
      "Classification Report: \n",
      "              precision    recall  f1-score   support\n",
      "\n",
      "           0       0.99      0.98      0.98      7012\n",
      "           1       0.98      0.99      0.98      7023\n",
      "\n",
      "    accuracy                           0.98     14035\n",
      "   macro avg       0.98      0.98      0.98     14035\n",
      "weighted avg       0.98      0.98      0.98     14035\n",
      "\n",
      "Total Cost: 37450\n",
      "*************************\n",
      "XGBclassifier\n",
      "model performance for Test set\n",
      "Accuracy Score: 0.9960099750623441\n",
      "F1 Score: 0.9960244214113304\n",
      "Precision Score: 0.9932040209542687\n",
      "Recall Score: 0.9988608856613983\n",
      "ROC AUC Score: 0.9960077388945896\n",
      "Confusion Matrix: \n",
      "[[6964   48]\n",
      " [   8 7015]]\n",
      "Classification Report: \n",
      "              precision    recall  f1-score   support\n",
      "\n",
      "           0       1.00      0.99      1.00      7012\n",
      "           1       0.99      1.00      1.00      7023\n",
      "\n",
      "    accuracy                           1.00     14035\n",
      "   macro avg       1.00      1.00      1.00     14035\n",
      "weighted avg       1.00      1.00      1.00     14035\n",
      "\n",
      "Total Cost: 4480\n",
      "*************************\n",
      "KNN classifier\n",
      "model performance for Test set\n",
      "Accuracy Score: 0.9727823298895618\n",
      "F1 Score: 0.9731892195395846\n",
      "Precision Score: 0.9595847750865052\n",
      "Recall Score: 0.9871849636907305\n",
      "ROC AUC Score: 0.9727710329006988\n",
      "Confusion Matrix: \n",
      "[[6720  292]\n",
      " [  90 6933]]\n",
      "Classification Report: \n",
      "              precision    recall  f1-score   support\n",
      "\n",
      "           0       0.99      0.96      0.97      7012\n",
      "           1       0.96      0.99      0.97      7023\n",
      "\n",
      "    accuracy                           0.97     14035\n",
      "   macro avg       0.97      0.97      0.97     14035\n",
      "weighted avg       0.97      0.97      0.97     14035\n",
      "\n",
      "Total Cost: 47920\n",
      "*************************\n",
      "SVM classifier\n",
      "model performance for Test set\n",
      "Accuracy Score: 0.8524403277520485\n",
      "F1 Score: 0.8338014605569376\n",
      "Precision Score: 0.9553144538433248\n",
      "Recall Score: 0.739712373629503\n",
      "ROC AUC Score: 0.852528748138197\n",
      "Confusion Matrix: \n",
      "[[6769  243]\n",
      " [1828 5195]]\n",
      "Classification Report: \n",
      "              precision    recall  f1-score   support\n",
      "\n",
      "           0       0.79      0.97      0.87      7012\n",
      "           1       0.96      0.74      0.83      7023\n",
      "\n",
      "    accuracy                           0.85     14035\n",
      "   macro avg       0.87      0.85      0.85     14035\n",
      "weighted avg       0.87      0.85      0.85     14035\n",
      "\n",
      "Total Cost: 916430\n",
      "*************************\n",
      "Logistic classifier\n",
      "model performance for Test set\n",
      "Accuracy Score: 0.6753117206982544\n",
      "F1 Score: 0.7384791965566716\n",
      "Precision Score: 0.6185348971351663\n",
      "Recall Score: 0.9161327068204471\n",
      "ROC AUC Score: 0.6751228280251693\n",
      "Confusion Matrix: \n",
      "[[3044 3968]\n",
      " [ 589 6434]]\n",
      "Classification Report: \n",
      "              precision    recall  f1-score   support\n",
      "\n",
      "           0       0.84      0.43      0.57      7012\n",
      "           1       0.62      0.92      0.74      7023\n",
      "\n",
      "    accuracy                           0.68     14035\n",
      "   macro avg       0.73      0.68      0.66     14035\n",
      "weighted avg       0.73      0.68      0.66     14035\n",
      "\n",
      "Total Cost: 334180\n",
      "*************************\n"
     ]
    },
    {
     "name": "stderr",
     "output_type": "stream",
     "text": [
      "C:\\Users\\lenovo\\AppData\\Local\\Programs\\Python\\Python38\\lib\\site-packages\\sklearn\\linear_model\\_logistic.py:460: ConvergenceWarning: lbfgs failed to converge (status=1):\n",
      "STOP: TOTAL NO. of ITERATIONS REACHED LIMIT.\n",
      "\n",
      "Increase the number of iterations (max_iter) or scale the data as shown in:\n",
      "    https://scikit-learn.org/stable/modules/preprocessing.html\n",
      "Please also refer to the documentation for alternative solver options:\n",
      "    https://scikit-learn.org/stable/modules/linear_model.html#logistic-regression\n",
      "  n_iter_i = _check_optimize_result(\n"
     ]
    }
   ],
   "source": [
    "report_mean = evaluate_models(x_res_mean,y_res_mean,models)"
   ]
  },
  {
   "cell_type": "code",
   "execution_count": 35,
   "metadata": {
    "colab": {
     "base_uri": "https://localhost:8080/",
     "height": 237
    },
    "id": "HAvIPVJcPtvg",
    "outputId": "3a82691b-1b03-4649-a411-9f9d21fdebb0"
   },
   "outputs": [
    {
     "data": {
      "text/html": [
       "<div>\n",
       "<style scoped>\n",
       "    .dataframe tbody tr th:only-of-type {\n",
       "        vertical-align: middle;\n",
       "    }\n",
       "\n",
       "    .dataframe tbody tr th {\n",
       "        vertical-align: top;\n",
       "    }\n",
       "\n",
       "    .dataframe thead th {\n",
       "        text-align: right;\n",
       "    }\n",
       "</style>\n",
       "<table border=\"1\" class=\"dataframe\">\n",
       "  <thead>\n",
       "    <tr style=\"text-align: right;\">\n",
       "      <th></th>\n",
       "      <th>Model Name</th>\n",
       "      <th>Cost</th>\n",
       "    </tr>\n",
       "  </thead>\n",
       "  <tbody>\n",
       "    <tr>\n",
       "      <th>2</th>\n",
       "      <td>XGBclassifier</td>\n",
       "      <td>4480</td>\n",
       "    </tr>\n",
       "    <tr>\n",
       "      <th>0</th>\n",
       "      <td>Random Forest</td>\n",
       "      <td>9480</td>\n",
       "    </tr>\n",
       "    <tr>\n",
       "      <th>1</th>\n",
       "      <td>Decision Tree</td>\n",
       "      <td>37450</td>\n",
       "    </tr>\n",
       "    <tr>\n",
       "      <th>3</th>\n",
       "      <td>KNN classifier</td>\n",
       "      <td>47920</td>\n",
       "    </tr>\n",
       "    <tr>\n",
       "      <th>5</th>\n",
       "      <td>Logistic classifier</td>\n",
       "      <td>334180</td>\n",
       "    </tr>\n",
       "    <tr>\n",
       "      <th>4</th>\n",
       "      <td>SVM classifier</td>\n",
       "      <td>916430</td>\n",
       "    </tr>\n",
       "  </tbody>\n",
       "</table>\n",
       "</div>"
      ],
      "text/plain": [
       "            Model Name    Cost\n",
       "2        XGBclassifier    4480\n",
       "0        Random Forest    9480\n",
       "1        Decision Tree   37450\n",
       "3       KNN classifier   47920\n",
       "5  Logistic classifier  334180\n",
       "4       SVM classifier  916430"
      ]
     },
     "execution_count": 35,
     "metadata": {},
     "output_type": "execute_result"
    }
   ],
   "source": [
    "report_mean"
   ]
  },
  {
   "cell_type": "code",
   "execution_count": 36,
   "metadata": {
    "id": "K6kisosDbn8B"
   },
   "outputs": [],
   "source": [
    "#pipeline for replacing median values for null and transforming with robust scaler\n",
    "\n",
    "from sklearn.impute import SimpleImputer\n",
    "from sklearn.preprocessing import RobustScaler, StandardScaler, MinMaxScaler\n",
    "median_pipeline = Pipeline(steps=[\n",
    "    ('imputer', SimpleImputer(strategy='median')),\n",
    "    ('robust_scaler', RobustScaler())\n",
    "])\n",
    "\n",
    "x_median = median_pipeline.fit_transform(X)"
   ]
  },
  {
   "cell_type": "code",
   "execution_count": 37,
   "metadata": {
    "colab": {
     "base_uri": "https://localhost:8080/"
    },
    "id": "-hnhSDJOgQm2",
    "outputId": "63582d0f-24b8-4ebe-9db2-17aa1896f5db"
   },
   "outputs": [
    {
     "name": "stderr",
     "output_type": "stream",
     "text": [
      "C:\\Users\\lenovo\\AppData\\Local\\Programs\\Python\\Python38\\lib\\site-packages\\imblearn\\over_sampling\\_smote\\base.py:370: FutureWarning: The parameter `n_jobs` has been deprecated in 0.10 and will be removed in 0.12. You can pass an nearest neighbors estimator where `n_jobs` is already set instead.\n",
      "  warnings.warn(\n"
     ]
    }
   ],
   "source": [
    "from imblearn.combine import SMOTETomek\n",
    "smt = SMOTETomek(random_state=101, sampling_strategy = 'minority',n_jobs=-1)\n",
    "x_res_median, y_res_median = smt.fit_resample(x_median, y)"
   ]
  },
  {
   "cell_type": "code",
   "execution_count": 38,
   "metadata": {
    "colab": {
     "base_uri": "https://localhost:8080/"
    },
    "id": "9uIhy_HLgkwX",
    "outputId": "3b203e0a-970d-4f9d-9290-da3abcb430a0"
   },
   "outputs": [
    {
     "name": "stdout",
     "output_type": "stream",
     "text": [
      "Random Forest\n",
      "model performance for Test set\n",
      "Accuracy Score: 0.991652397260274\n",
      "F1 Score: 0.9917495240110007\n",
      "Precision Score: 0.987085906793936\n",
      "Recall Score: 0.9964574181663597\n",
      "ROC AUC Score: 0.9916185639473845\n",
      "Confusion Matrix: \n",
      "[[6867   92]\n",
      " [  25 7032]]\n",
      "Classification Report: \n",
      "              precision    recall  f1-score   support\n",
      "\n",
      "           0       1.00      0.99      0.99      6959\n",
      "           1       0.99      1.00      0.99      7057\n",
      "\n",
      "    accuracy                           0.99     14016\n",
      "   macro avg       0.99      0.99      0.99     14016\n",
      "weighted avg       0.99      0.99      0.99     14016\n",
      "\n",
      "Total Cost: 13420\n",
      "*************************\n",
      "Decision Tree\n",
      "model performance for Test set\n",
      "Accuracy Score: 0.9874429223744292\n",
      "F1 Score: 0.9875968992248062\n",
      "Precision Score: 0.9823356231599607\n",
      "Recall Score: 0.9929148363327193\n",
      "ROC AUC Score: 0.987404393306466\n",
      "Confusion Matrix: \n",
      "[[6833  126]\n",
      " [  50 7007]]\n",
      "Classification Report: \n",
      "              precision    recall  f1-score   support\n",
      "\n",
      "           0       0.99      0.98      0.99      6959\n",
      "           1       0.98      0.99      0.99      7057\n",
      "\n",
      "    accuracy                           0.99     14016\n",
      "   macro avg       0.99      0.99      0.99     14016\n",
      "weighted avg       0.99      0.99      0.99     14016\n",
      "\n",
      "Total Cost: 26260\n",
      "*************************\n",
      "XGBclassifier\n",
      "model performance for Test set\n",
      "Accuracy Score: 0.9965753424657534\n",
      "F1 Score: 0.9966096906342704\n",
      "Precision Score: 0.9935220391494156\n",
      "Recall Score: 0.9997165934533088\n",
      "ROC AUC Score: 0.9965532241587566\n",
      "Confusion Matrix: \n",
      "[[6913   46]\n",
      " [   2 7055]]\n",
      "Classification Report: \n",
      "              precision    recall  f1-score   support\n",
      "\n",
      "           0       1.00      0.99      1.00      6959\n",
      "           1       0.99      1.00      1.00      7057\n",
      "\n",
      "    accuracy                           1.00     14016\n",
      "   macro avg       1.00      1.00      1.00     14016\n",
      "weighted avg       1.00      1.00      1.00     14016\n",
      "\n",
      "Total Cost: 1460\n",
      "*************************\n",
      "KNN classifier\n",
      "model performance for Test set\n",
      "Accuracy Score: 0.970105593607306\n",
      "F1 Score: 0.9706438730470118\n",
      "Precision Score: 0.959950110864745\n",
      "Recall Score: 0.9815785744650701\n",
      "ROC AUC Score: 0.9700248095776995\n",
      "Confusion Matrix: \n",
      "[[6670  289]\n",
      " [ 130 6927]]\n",
      "Classification Report: \n",
      "              precision    recall  f1-score   support\n",
      "\n",
      "           0       0.98      0.96      0.97      6959\n",
      "           1       0.96      0.98      0.97      7057\n",
      "\n",
      "    accuracy                           0.97     14016\n",
      "   macro avg       0.97      0.97      0.97     14016\n",
      "weighted avg       0.97      0.97      0.97     14016\n",
      "\n",
      "Total Cost: 67890\n",
      "*************************\n",
      "SVM classifier\n",
      "model performance for Test set\n",
      "Accuracy Score: 0.7600599315068494\n",
      "F1 Score: 0.6955734588576085\n",
      "Precision Score: 0.962907268170426\n",
      "Recall Score: 0.5444239761938501\n",
      "ROC AUC Score: 0.7615782763567325\n",
      "Confusion Matrix: \n",
      "[[6811  148]\n",
      " [3215 3842]]\n",
      "Classification Report: \n",
      "              precision    recall  f1-score   support\n",
      "\n",
      "           0       0.68      0.98      0.80      6959\n",
      "           1       0.96      0.54      0.70      7057\n",
      "\n",
      "    accuracy                           0.76     14016\n",
      "   macro avg       0.82      0.76      0.75     14016\n",
      "weighted avg       0.82      0.76      0.75     14016\n",
      "\n",
      "Total Cost: 1608980\n",
      "*************************\n",
      "Logistic classifier\n",
      "model performance for Test set\n",
      "Accuracy Score: 0.6259988584474886\n",
      "F1 Score: 0.710642525943917\n",
      "Precision Score: 0.582059860746903\n",
      "Recall Score: 0.9121439705257192\n",
      "ROC AUC Score: 0.623984041592792\n",
      "Confusion Matrix: \n",
      "[[2337 4622]\n",
      " [ 620 6437]]\n",
      "Classification Report: \n",
      "              precision    recall  f1-score   support\n",
      "\n",
      "           0       0.79      0.34      0.47      6959\n",
      "           1       0.58      0.91      0.71      7057\n",
      "\n",
      "    accuracy                           0.63     14016\n",
      "   macro avg       0.69      0.62      0.59     14016\n",
      "weighted avg       0.69      0.63      0.59     14016\n",
      "\n",
      "Total Cost: 356220\n",
      "*************************\n"
     ]
    },
    {
     "name": "stderr",
     "output_type": "stream",
     "text": [
      "C:\\Users\\lenovo\\AppData\\Local\\Programs\\Python\\Python38\\lib\\site-packages\\sklearn\\linear_model\\_logistic.py:460: ConvergenceWarning: lbfgs failed to converge (status=1):\n",
      "STOP: TOTAL NO. of ITERATIONS REACHED LIMIT.\n",
      "\n",
      "Increase the number of iterations (max_iter) or scale the data as shown in:\n",
      "    https://scikit-learn.org/stable/modules/preprocessing.html\n",
      "Please also refer to the documentation for alternative solver options:\n",
      "    https://scikit-learn.org/stable/modules/linear_model.html#logistic-regression\n",
      "  n_iter_i = _check_optimize_result(\n"
     ]
    }
   ],
   "source": [
    "report_median = evaluate_models(x_res_median,y_res_median,models)"
   ]
  },
  {
   "cell_type": "code",
   "execution_count": 39,
   "metadata": {
    "colab": {
     "base_uri": "https://localhost:8080/",
     "height": 141
    },
    "id": "xpY-sNl8hOei",
    "outputId": "f06709c9-cc24-4ccc-e635-8e22d5280f04"
   },
   "outputs": [
    {
     "data": {
      "text/html": [
       "<div>\n",
       "<style scoped>\n",
       "    .dataframe tbody tr th:only-of-type {\n",
       "        vertical-align: middle;\n",
       "    }\n",
       "\n",
       "    .dataframe tbody tr th {\n",
       "        vertical-align: top;\n",
       "    }\n",
       "\n",
       "    .dataframe thead th {\n",
       "        text-align: right;\n",
       "    }\n",
       "</style>\n",
       "<table border=\"1\" class=\"dataframe\">\n",
       "  <thead>\n",
       "    <tr style=\"text-align: right;\">\n",
       "      <th></th>\n",
       "      <th>Model Name</th>\n",
       "      <th>Cost</th>\n",
       "    </tr>\n",
       "  </thead>\n",
       "  <tbody>\n",
       "    <tr>\n",
       "      <th>2</th>\n",
       "      <td>XGBclassifier</td>\n",
       "      <td>1460</td>\n",
       "    </tr>\n",
       "    <tr>\n",
       "      <th>0</th>\n",
       "      <td>Random Forest</td>\n",
       "      <td>13420</td>\n",
       "    </tr>\n",
       "    <tr>\n",
       "      <th>1</th>\n",
       "      <td>Decision Tree</td>\n",
       "      <td>26260</td>\n",
       "    </tr>\n",
       "    <tr>\n",
       "      <th>3</th>\n",
       "      <td>KNN classifier</td>\n",
       "      <td>67890</td>\n",
       "    </tr>\n",
       "    <tr>\n",
       "      <th>5</th>\n",
       "      <td>Logistic classifier</td>\n",
       "      <td>356220</td>\n",
       "    </tr>\n",
       "    <tr>\n",
       "      <th>4</th>\n",
       "      <td>SVM classifier</td>\n",
       "      <td>1608980</td>\n",
       "    </tr>\n",
       "  </tbody>\n",
       "</table>\n",
       "</div>"
      ],
      "text/plain": [
       "            Model Name     Cost\n",
       "2        XGBclassifier     1460\n",
       "0        Random Forest    13420\n",
       "1        Decision Tree    26260\n",
       "3       KNN classifier    67890\n",
       "5  Logistic classifier   356220\n",
       "4       SVM classifier  1608980"
      ]
     },
     "execution_count": 39,
     "metadata": {},
     "output_type": "execute_result"
    }
   ],
   "source": [
    "report_median"
   ]
  },
  {
   "cell_type": "code",
   "execution_count": 40,
   "metadata": {
    "id": "tU7RmqYLiUfB"
   },
   "outputs": [],
   "source": [
    "constant_pipeline = Pipeline(steps=[\n",
    "    ('imputer', SimpleImputer(strategy='constant', fill_value=0)),  # Replace nulls with 0\n",
    "    ('robust_scaler', RobustScaler())  # Apply RobustScaler\n",
    "])\n",
    "\n",
    "# Apply the pipeline to the data\n",
    "x_constant = constant_pipeline.fit_transform(X)"
   ]
  },
  {
   "cell_type": "code",
   "execution_count": 41,
   "metadata": {
    "colab": {
     "base_uri": "https://localhost:8080/"
    },
    "id": "5Ls8Bwp-iuRx",
    "outputId": "1d773ad2-695f-4133-9e14-50fdcdfcd697"
   },
   "outputs": [
    {
     "name": "stderr",
     "output_type": "stream",
     "text": [
      "C:\\Users\\lenovo\\AppData\\Local\\Programs\\Python\\Python38\\lib\\site-packages\\imblearn\\over_sampling\\_smote\\base.py:370: FutureWarning: The parameter `n_jobs` has been deprecated in 0.10 and will be removed in 0.12. You can pass an nearest neighbors estimator where `n_jobs` is already set instead.\n",
      "  warnings.warn(\n"
     ]
    }
   ],
   "source": [
    "\n",
    "smt = SMOTETomek(random_state=101, sampling_strategy = 'minority',n_jobs=-1)\n",
    "x_res_constant, y_res_constant = smt.fit_resample(x_constant, y)"
   ]
  },
  {
   "cell_type": "code",
   "execution_count": 42,
   "metadata": {
    "colab": {
     "base_uri": "https://localhost:8080/"
    },
    "id": "FeGndstMjLZ8",
    "outputId": "3c114c28-3989-488a-d071-5ec7037b78d6"
   },
   "outputs": [
    {
     "name": "stdout",
     "output_type": "stream",
     "text": [
      "Random Forest\n",
      "model performance for Test set\n",
      "Accuracy Score: 0.9919389356541589\n",
      "F1 Score: 0.9919954664588794\n",
      "Precision Score: 0.9873096446700508\n",
      "Recall Score: 0.9967259786476869\n",
      "ROC AUC Score: 0.991927982888837\n",
      "Confusion Matrix: \n",
      "[[6903   90]\n",
      " [  23 7002]]\n",
      "Classification Report: \n",
      "              precision    recall  f1-score   support\n",
      "\n",
      "           0       1.00      0.99      0.99      6993\n",
      "           1       0.99      1.00      0.99      7025\n",
      "\n",
      "    accuracy                           0.99     14018\n",
      "   macro avg       0.99      0.99      0.99     14018\n",
      "weighted avg       0.99      0.99      0.99     14018\n",
      "\n",
      "Total Cost: 12400\n",
      "*************************\n",
      "Decision Tree\n",
      "model performance for Test set\n",
      "Accuracy Score: 0.9858039663290056\n",
      "F1 Score: 0.985889527050982\n",
      "Precision Score: 0.9821983611189602\n",
      "Recall Score: 0.989608540925267\n",
      "ROC AUC Score: 0.9857952614536244\n",
      "Confusion Matrix: \n",
      "[[6867  126]\n",
      " [  73 6952]]\n",
      "Classification Report: \n",
      "              precision    recall  f1-score   support\n",
      "\n",
      "           0       0.99      0.98      0.99      6993\n",
      "           1       0.98      0.99      0.99      7025\n",
      "\n",
      "    accuracy                           0.99     14018\n",
      "   macro avg       0.99      0.99      0.99     14018\n",
      "weighted avg       0.99      0.99      0.99     14018\n",
      "\n",
      "Total Cost: 37760\n",
      "*************************\n",
      "XGBclassifier\n",
      "model performance for Test set\n",
      "Accuracy Score: 0.995434441432444\n",
      "F1 Score: 0.9954558364101107\n",
      "Precision Score: 0.9930585068706616\n",
      "Recall Score: 0.997864768683274\n",
      "ROC AUC Score: 0.9954288808381335\n",
      "Confusion Matrix: \n",
      "[[6944   49]\n",
      " [  15 7010]]\n",
      "Classification Report: \n",
      "              precision    recall  f1-score   support\n",
      "\n",
      "           0       1.00      0.99      1.00      6993\n",
      "           1       0.99      1.00      1.00      7025\n",
      "\n",
      "    accuracy                           1.00     14018\n",
      "   macro avg       1.00      1.00      1.00     14018\n",
      "weighted avg       1.00      1.00      1.00     14018\n",
      "\n",
      "Total Cost: 7990\n",
      "*************************\n",
      "KNN classifier\n",
      "model performance for Test set\n",
      "Accuracy Score: 0.9722499643315737\n",
      "F1 Score: 0.9727151574665076\n",
      "Precision Score: 0.9587942477876106\n",
      "Recall Score: 0.9870462633451957\n",
      "ROC AUC Score: 0.9722161103655764\n",
      "Confusion Matrix: \n",
      "[[6695  298]\n",
      " [  91 6934]]\n",
      "Classification Report: \n",
      "              precision    recall  f1-score   support\n",
      "\n",
      "           0       0.99      0.96      0.97      6993\n",
      "           1       0.96      0.99      0.97      7025\n",
      "\n",
      "    accuracy                           0.97     14018\n",
      "   macro avg       0.97      0.97      0.97     14018\n",
      "weighted avg       0.97      0.97      0.97     14018\n",
      "\n",
      "Total Cost: 48480\n",
      "*************************\n",
      "SVM classifier\n",
      "model performance for Test set\n",
      "Accuracy Score: 0.7545298901412469\n",
      "F1 Score: 0.6838187999632456\n",
      "Precision Score: 0.9644893727319855\n",
      "Recall Score: 0.5296797153024911\n",
      "ROC AUC Score: 0.7550443478557358\n",
      "Confusion Matrix: \n",
      "[[6856  137]\n",
      " [3304 3721]]\n",
      "Classification Report: \n",
      "              precision    recall  f1-score   support\n",
      "\n",
      "           0       0.67      0.98      0.80      6993\n",
      "           1       0.96      0.53      0.68      7025\n",
      "\n",
      "    accuracy                           0.75     14018\n",
      "   macro avg       0.82      0.76      0.74     14018\n",
      "weighted avg       0.82      0.75      0.74     14018\n",
      "\n",
      "Total Cost: 1653370\n",
      "*************************\n",
      "Logistic classifier\n",
      "model performance for Test set\n",
      "Accuracy Score: 0.6574404337280639\n",
      "F1 Score: 0.7414665661677614\n",
      "Precision Score: 0.5962420988830202\n",
      "Recall Score: 0.9802135231316726\n",
      "ROC AUC Score: 0.6567019281610029\n",
      "Confusion Matrix: \n",
      "[[2330 4663]\n",
      " [ 139 6886]]\n",
      "Classification Report: \n",
      "              precision    recall  f1-score   support\n",
      "\n",
      "           0       0.94      0.33      0.49      6993\n",
      "           1       0.60      0.98      0.74      7025\n",
      "\n",
      "    accuracy                           0.66     14018\n",
      "   macro avg       0.77      0.66      0.62     14018\n",
      "weighted avg       0.77      0.66      0.62     14018\n",
      "\n",
      "Total Cost: 116130\n",
      "*************************\n"
     ]
    },
    {
     "name": "stderr",
     "output_type": "stream",
     "text": [
      "C:\\Users\\lenovo\\AppData\\Local\\Programs\\Python\\Python38\\lib\\site-packages\\sklearn\\linear_model\\_logistic.py:460: ConvergenceWarning: lbfgs failed to converge (status=1):\n",
      "STOP: TOTAL NO. of ITERATIONS REACHED LIMIT.\n",
      "\n",
      "Increase the number of iterations (max_iter) or scale the data as shown in:\n",
      "    https://scikit-learn.org/stable/modules/preprocessing.html\n",
      "Please also refer to the documentation for alternative solver options:\n",
      "    https://scikit-learn.org/stable/modules/linear_model.html#logistic-regression\n",
      "  n_iter_i = _check_optimize_result(\n"
     ]
    }
   ],
   "source": [
    "report_constant = evaluate_models(x_res_constant,y_res_constant,models)"
   ]
  },
  {
   "cell_type": "code",
   "execution_count": 43,
   "metadata": {
    "colab": {
     "base_uri": "https://localhost:8080/",
     "height": 237
    },
    "id": "GvdLKrozjdYc",
    "outputId": "272063ac-3678-4e40-e166-333692e7270f"
   },
   "outputs": [
    {
     "data": {
      "text/html": [
       "<div>\n",
       "<style scoped>\n",
       "    .dataframe tbody tr th:only-of-type {\n",
       "        vertical-align: middle;\n",
       "    }\n",
       "\n",
       "    .dataframe tbody tr th {\n",
       "        vertical-align: top;\n",
       "    }\n",
       "\n",
       "    .dataframe thead th {\n",
       "        text-align: right;\n",
       "    }\n",
       "</style>\n",
       "<table border=\"1\" class=\"dataframe\">\n",
       "  <thead>\n",
       "    <tr style=\"text-align: right;\">\n",
       "      <th></th>\n",
       "      <th>Model Name</th>\n",
       "      <th>Cost</th>\n",
       "    </tr>\n",
       "  </thead>\n",
       "  <tbody>\n",
       "    <tr>\n",
       "      <th>2</th>\n",
       "      <td>XGBclassifier</td>\n",
       "      <td>7990</td>\n",
       "    </tr>\n",
       "    <tr>\n",
       "      <th>0</th>\n",
       "      <td>Random Forest</td>\n",
       "      <td>12400</td>\n",
       "    </tr>\n",
       "    <tr>\n",
       "      <th>1</th>\n",
       "      <td>Decision Tree</td>\n",
       "      <td>37760</td>\n",
       "    </tr>\n",
       "    <tr>\n",
       "      <th>3</th>\n",
       "      <td>KNN classifier</td>\n",
       "      <td>48480</td>\n",
       "    </tr>\n",
       "    <tr>\n",
       "      <th>5</th>\n",
       "      <td>Logistic classifier</td>\n",
       "      <td>116130</td>\n",
       "    </tr>\n",
       "    <tr>\n",
       "      <th>4</th>\n",
       "      <td>SVM classifier</td>\n",
       "      <td>1653370</td>\n",
       "    </tr>\n",
       "  </tbody>\n",
       "</table>\n",
       "</div>"
      ],
      "text/plain": [
       "            Model Name     Cost\n",
       "2        XGBclassifier     7990\n",
       "0        Random Forest    12400\n",
       "1        Decision Tree    37760\n",
       "3       KNN classifier    48480\n",
       "5  Logistic classifier   116130\n",
       "4       SVM classifier  1653370"
      ]
     },
     "execution_count": 43,
     "metadata": {},
     "output_type": "execute_result"
    }
   ],
   "source": [
    "report_constant"
   ]
  },
  {
   "cell_type": "markdown",
   "metadata": {
    "id": "YmSHU_ORoitI"
   },
   "source": [
    "## So far XGB with SimpleImputer - Median gave the least cost"
   ]
  },
  {
   "cell_type": "code",
   "execution_count": 44,
   "metadata": {
    "id": "ytw0AZpGjgB3"
   },
   "outputs": [],
   "source": [
    "# experiment with PCA with median imputer\n",
    "\n",
    "from sklearn.impute import SimpleImputer\n",
    "from sklearn.preprocessing import RobustScaler, StandardScaler, MinMaxScaler\n",
    "from sklearn.pipeline import Pipeline\n",
    "\n",
    "pca_pipeline = Pipeline(steps=[\n",
    "    ('pca imputer', SimpleImputer(strategy='median')),\n",
    "    ('robust_scaler', RobustScaler())  # Apply RobustScaler\n",
    "])\n",
    "\n",
    "# Apply the pipeline to the data\n",
    "X_pca = pca_pipeline.fit_transform(X)"
   ]
  },
  {
   "cell_type": "code",
   "execution_count": 45,
   "metadata": {
    "id": "tKNKHF-QFZOW"
   },
   "outputs": [],
   "source": [
    "# applying PCA\n",
    "from sklearn.decomposition import PCA\n",
    "\n",
    "var_ratio = {}\n",
    "for n in range(2,150):      #loop which finds the best number of columns minimum columns\n",
    "  pca = PCA(n_components=n)\n",
    "  df_pca = pca.fit(X_pca)\n",
    "  var_ratio[n] = sum(df_pca.explained_variance_ratio_)\n",
    "\n",
    "\n"
   ]
  },
  {
   "cell_type": "code",
   "execution_count": 46,
   "metadata": {
    "colab": {
     "base_uri": "https://localhost:8080/"
    },
    "id": "TyXFC3_5J_Kz",
    "outputId": "64a04760-46dd-4c5e-b0d4-6f6c16ea6f2a"
   },
   "outputs": [
    {
     "name": "stderr",
     "output_type": "stream",
     "text": [
      "\n",
      "[notice] A new release of pip is available: 24.2 -> 24.3.1\n",
      "[notice] To update, run: python.exe -m pip install --upgrade pip\n"
     ]
    },
    {
     "name": "stdout",
     "output_type": "stream",
     "text": [
      "Requirement already satisfied: kneed in c:\\users\\lenovo\\appdata\\local\\programs\\python\\python38\\lib\\site-packages (0.8.5)\n",
      "Requirement already satisfied: numpy>=1.14.2 in c:\\users\\lenovo\\appdata\\local\\programs\\python\\python38\\lib\\site-packages (from kneed) (1.24.3)\n",
      "Requirement already satisfied: scipy>=1.0.0 in c:\\users\\lenovo\\appdata\\local\\programs\\python\\python38\\lib\\site-packages (from kneed) (1.10.1)\n"
     ]
    }
   ],
   "source": [
    "#variance plot\n",
    "!pip install kneed\n"
   ]
  },
  {
   "cell_type": "code",
   "execution_count": 47,
   "metadata": {
    "colab": {
     "base_uri": "https://localhost:8080/",
     "height": 599
    },
    "id": "V_pmwWNf7K5i",
    "outputId": "59b12f9e-8595-41f9-8af5-47f662fa912d"
   },
   "outputs": [
    {
     "data": {
      "text/plain": [
       "<Figure size 500x500 with 0 Axes>"
      ]
     },
     "metadata": {},
     "output_type": "display_data"
    },
    {
     "data": {
      "image/png": "[encoded data removed]",
      "text/plain": [
       "<Figure size 600x600 with 1 Axes>"
      ]
     },
     "metadata": {},
     "output_type": "display_data"
    },
    {
     "name": "stdout",
     "output_type": "stream",
     "text": [
      "knee locator k = 16\n"
     ]
    }
   ],
   "source": [
    "from kneed import KneeLocator\n",
    "\n",
    "i = np.arange(len(var_ratio))\n",
    "variance_ratio = list(var_ratio.values())\n",
    "components = list(var_ratio.keys())\n",
    "\n",
    "knee = KneeLocator(i, variance_ratio)\n",
    "\n",
    "fig = plt.figure(figsize=(5, 5))\n",
    "knee.plot_knee()\n",
    "plt.xlabel(\"Points\")\n",
    "plt.ylabel(\"Distance\")\n",
    "plt.show()\n",
    "k = components[knee.knee]\n",
    "print('knee locator k =',k)\n"
   ]
  },
  {
   "cell_type": "code",
   "execution_count": 48,
   "metadata": {
    "colab": {
     "base_uri": "https://localhost:8080/"
    },
    "id": "TQL1ap0D9M-k",
    "outputId": "d460aeeb-8b34-47df-d62c-5854ba2f446a"
   },
   "outputs": [
    {
     "name": "stdout",
     "output_type": "stream",
     "text": [
      "knee locator k = 16\n"
     ]
    }
   ],
   "source": [
    "#printing minimum number of columns needed without plotting graph\n",
    "\n",
    "i = np.arange(len(var_ratio))\n",
    "variance_ratio = list(var_ratio.values())\n",
    "components = list(var_ratio.keys())\n",
    "\n",
    "k = components[knee.knee]\n",
    "print('knee locator k =',k)\n",
    "\n",
    "\n"
   ]
  },
  {
   "cell_type": "code",
   "execution_count": 49,
   "metadata": {
    "id": "vj4WqazzInWj"
   },
   "outputs": [],
   "source": [
    "pca_final = PCA(n_components=16, random_state=101)\n",
    "reduced = pca_final.fit_transform(X_pca)"
   ]
  },
  {
   "cell_type": "code",
   "execution_count": 50,
   "metadata": {
    "colab": {
     "base_uri": "https://localhost:8080/"
    },
    "id": "PpdnqTkfWE-n",
    "outputId": "8d6a81e7-5e72-49d1-bf03-1d39df9007d8"
   },
   "outputs": [
    {
     "name": "stderr",
     "output_type": "stream",
     "text": [
      "C:\\Users\\lenovo\\AppData\\Local\\Programs\\Python\\Python38\\lib\\site-packages\\imblearn\\over_sampling\\_smote\\base.py:370: FutureWarning: The parameter `n_jobs` has been deprecated in 0.10 and will be removed in 0.12. You can pass an nearest neighbors estimator where `n_jobs` is already set instead.\n",
      "  warnings.warn(\n"
     ]
    },
    {
     "name": "stdout",
     "output_type": "stream",
     "text": [
      "Random Forest\n",
      "model performance for Test set\n",
      "Accuracy Score: 0.9811943726672409\n",
      "F1 Score: 0.9811673375503163\n",
      "Precision Score: 0.975557461406518\n",
      "Recall Score: 0.9868421052631579\n",
      "ROC AUC Score: 0.9812346216167558\n",
      "Confusion Matrix: \n",
      "[[6845  171]\n",
      " [  91 6825]]\n",
      "Classification Report: \n",
      "              precision    recall  f1-score   support\n",
      "\n",
      "           0       0.99      0.98      0.98      7016\n",
      "           1       0.98      0.99      0.98      6916\n",
      "\n",
      "    accuracy                           0.98     13932\n",
      "   macro avg       0.98      0.98      0.98     13932\n",
      "weighted avg       0.98      0.98      0.98     13932\n",
      "\n",
      "Total Cost: 47210\n",
      "*************************\n",
      "Decision Tree\n",
      "model performance for Test set\n",
      "Accuracy Score: 0.9685615848406546\n",
      "F1 Score: 0.9685028045448009\n",
      "Precision Score: 0.9633762517882689\n",
      "Recall Score: 0.9736842105263158\n",
      "ROC AUC Score: 0.9685980915801476\n",
      "Confusion Matrix: \n",
      "[[6760  256]\n",
      " [ 182 6734]]\n",
      "Classification Report: \n",
      "              precision    recall  f1-score   support\n",
      "\n",
      "           0       0.97      0.96      0.97      7016\n",
      "           1       0.96      0.97      0.97      6916\n",
      "\n",
      "    accuracy                           0.97     13932\n",
      "   macro avg       0.97      0.97      0.97     13932\n",
      "weighted avg       0.97      0.97      0.97     13932\n",
      "\n",
      "Total Cost: 93560\n",
      "*************************\n",
      "XGBclassifier\n",
      "model performance for Test set\n",
      "Accuracy Score: 0.9739448751076658\n",
      "F1 Score: 0.9739092934665421\n",
      "Precision Score: 0.9682721166214092\n",
      "Recall Score: 0.9796124927703875\n",
      "ROC AUC Score: 0.9739852657694583\n",
      "Confusion Matrix: \n",
      "[[6794  222]\n",
      " [ 141 6775]]\n",
      "Classification Report: \n",
      "              precision    recall  f1-score   support\n",
      "\n",
      "           0       0.98      0.97      0.97      7016\n",
      "           1       0.97      0.98      0.97      6916\n",
      "\n",
      "    accuracy                           0.97     13932\n",
      "   macro avg       0.97      0.97      0.97     13932\n",
      "weighted avg       0.97      0.97      0.97     13932\n",
      "\n",
      "Total Cost: 72720\n",
      "*************************\n",
      "KNN classifier\n",
      "model performance for Test set\n",
      "Accuracy Score: 0.9597329888027563\n",
      "F1 Score: 0.9597762959776296\n",
      "Precision Score: 0.9519271796330536\n",
      "Recall Score: 0.9677559282822441\n",
      "ROC AUC Score: 0.9597901648252727\n",
      "Confusion Matrix: \n",
      "[[6678  338]\n",
      " [ 223 6693]]\n",
      "Classification Report: \n",
      "              precision    recall  f1-score   support\n",
      "\n",
      "           0       0.97      0.95      0.96      7016\n",
      "           1       0.95      0.97      0.96      6916\n",
      "\n",
      "    accuracy                           0.96     13932\n",
      "   macro avg       0.96      0.96      0.96     13932\n",
      "weighted avg       0.96      0.96      0.96     13932\n",
      "\n",
      "Total Cost: 114880\n",
      "*************************\n",
      "SVM classifier\n",
      "model performance for Test set\n",
      "Accuracy Score: 0.7607665805340224\n",
      "F1 Score: 0.6913603111399204\n",
      "Precision Score: 0.9613700746845223\n",
      "Recall Score: 0.5397628687102372\n",
      "ROC AUC Score: 0.7591915825877297\n",
      "Confusion Matrix: \n",
      "[[6866  150]\n",
      " [3183 3733]]\n",
      "Classification Report: \n",
      "              precision    recall  f1-score   support\n",
      "\n",
      "           0       0.68      0.98      0.80      7016\n",
      "           1       0.96      0.54      0.69      6916\n",
      "\n",
      "    accuracy                           0.76     13932\n",
      "   macro avg       0.82      0.76      0.75     13932\n",
      "weighted avg       0.82      0.76      0.75     13932\n",
      "\n",
      "Total Cost: 1593000\n",
      "*************************\n",
      "Logistic classifier\n",
      "model performance for Test set\n",
      "Accuracy Score: 0.8187625610106231\n",
      "F1 Score: 0.8012593467138921\n",
      "Precision Score: 0.879253757125583\n",
      "Recall Score: 0.7359745517640255\n",
      "ROC AUC Score: 0.8181725666459808\n",
      "Confusion Matrix: \n",
      "[[6317  699]\n",
      " [1826 5090]]\n",
      "Classification Report: \n",
      "              precision    recall  f1-score   support\n",
      "\n",
      "           0       0.78      0.90      0.83      7016\n",
      "           1       0.88      0.74      0.80      6916\n",
      "\n",
      "    accuracy                           0.82     13932\n",
      "   macro avg       0.83      0.82      0.82     13932\n",
      "weighted avg       0.83      0.82      0.82     13932\n",
      "\n",
      "Total Cost: 919990\n",
      "*************************\n"
     ]
    },
    {
     "name": "stderr",
     "output_type": "stream",
     "text": [
      "C:\\Users\\lenovo\\AppData\\Local\\Programs\\Python\\Python38\\lib\\site-packages\\sklearn\\linear_model\\_logistic.py:460: ConvergenceWarning: lbfgs failed to converge (status=1):\n",
      "STOP: TOTAL NO. of ITERATIONS REACHED LIMIT.\n",
      "\n",
      "Increase the number of iterations (max_iter) or scale the data as shown in:\n",
      "    https://scikit-learn.org/stable/modules/preprocessing.html\n",
      "Please also refer to the documentation for alternative solver options:\n",
      "    https://scikit-learn.org/stable/modules/linear_model.html#logistic-regression\n",
      "  n_iter_i = _check_optimize_result(\n"
     ]
    }
   ],
   "source": [
    "from imblearn.combine import SMOTETomek\n",
    "smt = SMOTETomek(random_state=101, sampling_strategy='minority', n_jobs=-1)\n",
    "X_res, y_res = smt.fit_resample(reduced, y)\n",
    "\n",
    "report_constant = evaluate_models(X_res, y_res, models)"
   ]
  },
  {
   "cell_type": "code",
   "execution_count": 51,
   "metadata": {
    "colab": {
     "base_uri": "https://localhost:8080/",
     "height": 237
    },
    "id": "TjSs-EOTWkf6",
    "outputId": "7f8c9fe5-67a4-4767-8951-8fd728dd8493"
   },
   "outputs": [
    {
     "data": {
      "text/html": [
       "<div>\n",
       "<style scoped>\n",
       "    .dataframe tbody tr th:only-of-type {\n",
       "        vertical-align: middle;\n",
       "    }\n",
       "\n",
       "    .dataframe tbody tr th {\n",
       "        vertical-align: top;\n",
       "    }\n",
       "\n",
       "    .dataframe thead th {\n",
       "        text-align: right;\n",
       "    }\n",
       "</style>\n",
       "<table border=\"1\" class=\"dataframe\">\n",
       "  <thead>\n",
       "    <tr style=\"text-align: right;\">\n",
       "      <th></th>\n",
       "      <th>Model Name</th>\n",
       "      <th>Cost</th>\n",
       "    </tr>\n",
       "  </thead>\n",
       "  <tbody>\n",
       "    <tr>\n",
       "      <th>0</th>\n",
       "      <td>Random Forest</td>\n",
       "      <td>47210</td>\n",
       "    </tr>\n",
       "    <tr>\n",
       "      <th>2</th>\n",
       "      <td>XGBclassifier</td>\n",
       "      <td>72720</td>\n",
       "    </tr>\n",
       "    <tr>\n",
       "      <th>1</th>\n",
       "      <td>Decision Tree</td>\n",
       "      <td>93560</td>\n",
       "    </tr>\n",
       "    <tr>\n",
       "      <th>3</th>\n",
       "      <td>KNN classifier</td>\n",
       "      <td>114880</td>\n",
       "    </tr>\n",
       "    <tr>\n",
       "      <th>5</th>\n",
       "      <td>Logistic classifier</td>\n",
       "      <td>919990</td>\n",
       "    </tr>\n",
       "    <tr>\n",
       "      <th>4</th>\n",
       "      <td>SVM classifier</td>\n",
       "      <td>1593000</td>\n",
       "    </tr>\n",
       "  </tbody>\n",
       "</table>\n",
       "</div>"
      ],
      "text/plain": [
       "            Model Name     Cost\n",
       "0        Random Forest    47210\n",
       "2        XGBclassifier    72720\n",
       "1        Decision Tree    93560\n",
       "3       KNN classifier   114880\n",
       "5  Logistic classifier   919990\n",
       "4       SVM classifier  1593000"
      ]
     },
     "execution_count": 51,
     "metadata": {},
     "output_type": "execute_result"
    }
   ],
   "source": [
    "report_constant"
   ]
  },
  {
   "cell_type": "markdown",
   "metadata": {
    "id": "7MvxoJT1ecx8"
   },
   "source": [
    "## XGBOOST -> MEDIAN -> Conclusion\n",
    "\n",
    "### Since it's cost function is the least of all other algorithms"
   ]
  },
  {
   "cell_type": "code",
   "execution_count": 52,
   "metadata": {
    "id": "rCL502ZZedeo"
   },
   "outputs": [],
   "source": [
    "# Fitting the final model\n",
    "\n",
    "from xgboost import XGBClassifier  # Import the correct class\n",
    "from sklearn.impute import SimpleImputer\n",
    "\n",
    "xgb_model = XGBClassifier()  # Correct the class name\n",
    "\n",
    "pipeline = Pipeline(steps=[\n",
    "    ('imputer', SimpleImputer(strategy='median')),\n",
    "    ('robust_scaler', RobustScaler())])\n",
    "\n",
    "X_final = pipeline.fit_transform(X)\n",
    "\n"
   ]
  },
  {
   "cell_type": "code",
   "execution_count": 53,
   "metadata": {
    "colab": {
     "base_uri": "https://localhost:8080/"
    },
    "id": "jDOpRRnegNaf",
    "outputId": "b140d3ac-418f-446e-fbea-8b8fd4666824"
   },
   "outputs": [
    {
     "name": "stderr",
     "output_type": "stream",
     "text": [
      "C:\\Users\\lenovo\\AppData\\Local\\Programs\\Python\\Python38\\lib\\site-packages\\imblearn\\over_sampling\\_smote\\base.py:370: FutureWarning: The parameter `n_jobs` has been deprecated in 0.10 and will be removed in 0.12. You can pass an nearest neighbors estimator where `n_jobs` is already set instead.\n",
      "  warnings.warn(\n"
     ]
    }
   ],
   "source": [
    "from imblearn.combine import SMOTETomek\n",
    "smt = SMOTETomek(random_state=101, sampling_strategy='minority', n_jobs=-1)\n",
    "X_res, y_res = smt.fit_resample(X_final, y)\n"
   ]
  },
  {
   "cell_type": "code",
   "execution_count": 54,
   "metadata": {
    "id": "4DIN5Ws2gyWT"
   },
   "outputs": [],
   "source": [
    "from sklearn.model_selection import train_test_split\n",
    "\n",
    "X_train, X_test, y_train, y_test = train_test_split(X_res, y_res, test_size=0.2, random_state=101)\n",
    "\n",
    "final_model = xgb_model.fit(X_train, y_train)\n",
    "y_pred = final_model.predict(X_test)"
   ]
  },
  {
   "cell_type": "code",
   "execution_count": 55,
   "metadata": {
    "colab": {
     "base_uri": "https://localhost:8080/"
    },
    "id": "JfuefHg2hwzd",
    "outputId": "ab6b05ba-d241-498e-fb7e-29a95be4777b"
   },
   "outputs": [
    {
     "data": {
      "text/plain": [
       "0.9999821619693186"
      ]
     },
     "execution_count": 55,
     "metadata": {},
     "output_type": "execute_result"
    }
   ],
   "source": [
    "final_model.score(X_train, y_train)"
   ]
  },
  {
   "cell_type": "code",
   "execution_count": 56,
   "metadata": {
    "colab": {
     "base_uri": "https://localhost:8080/"
    },
    "id": "x8EzYQgMh4Qd",
    "outputId": "9f3d16d7-bc45-47c4-81d6-658c655f5f4c"
   },
   "outputs": [
    {
     "data": {
      "text/plain": [
       "0.9965753424657534"
      ]
     },
     "execution_count": 56,
     "metadata": {},
     "output_type": "execute_result"
    }
   ],
   "source": [
    "final_model.score(X_test, y_test)"
   ]
  },
  {
   "cell_type": "code",
   "execution_count": 57,
   "metadata": {
    "id": "UnaMCtLdnzzx"
   },
   "outputs": [],
   "source": [
    "roc_auc = roc_auc_score(y_test,y_pred)\n",
    "cm = confusion_matrix(y_test,y_pred)\n",
    "\n"
   ]
  },
  {
   "cell_type": "code",
   "execution_count": 58,
   "metadata": {},
   "outputs": [
    {
     "data": {
      "text/plain": [
       "array([[6913,   46],\n",
       "       [   2, 7055]], dtype=int64)"
      ]
     },
     "execution_count": 58,
     "metadata": {},
     "output_type": "execute_result"
    }
   ],
   "source": [
    "cm"
   ]
  },
  {
   "cell_type": "code",
   "execution_count": 59,
   "metadata": {},
   "outputs": [],
   "source": [
    "test_cost = total_cost(y_test,y_pred)"
   ]
  },
  {
   "cell_type": "code",
   "execution_count": 60,
   "metadata": {},
   "outputs": [
    {
     "data": {
      "text/plain": [
       "1460"
      ]
     },
     "execution_count": 60,
     "metadata": {},
     "output_type": "execute_result"
    }
   ],
   "source": [
    "test_cost"
   ]
  },
  {
   "cell_type": "code",
   "execution_count": 61,
   "metadata": {},
   "outputs": [
    {
     "data": {
      "text/plain": [
       "['final_deployment_model.pkl']"
      ]
     },
     "execution_count": 61,
     "metadata": {},
     "output_type": "execute_result"
    }
   ],
   "source": [
    "# Final pipeline for deployment\n",
    "deployment_pipeline = Pipeline([\n",
    "    (\"preprocessing\", pca_pipeline),\n",
    "    (\"classifier\", xgb_model)\n",
    "])\n",
    "\n",
    "# Train the deployment pipeline\n",
    "deployment_pipeline.fit(X_res, y_res)\n",
    "\n",
    "# Save deployment_pipeline as a single model for deployment\n",
    "import joblib\n",
    "joblib.dump(deployment_pipeline, 'final_deployment_model.pkl')"
   ]
  },
  {
   "cell_type": "code",
   "execution_count": null,
   "metadata": {},
   "outputs": [],
   "source": []
  },
  {
   "cell_type": "code",
   "execution_count": null,
   "metadata": {},
   "outputs": [],
   "source": []
  }
 ],
 "metadata": {
  "accelerator": "TPU",
  "colab": {
   "gpuType": "V28",
   "provenance": []
  },
  "kernelspec": {
   "display_name": "Python 3 (ipykernel)",
   "language": "python",
   "name": "python3"
  },
  "language_info": {
   "codemirror_mode": {
    "name": "ipython",
    "version": 3
   },
   "file_extension": ".py",
   "mimetype": "text/x-python",
   "name": "python",
   "nbconvert_exporter": "python",
   "pygments_lexer": "ipython3",
   "version": "3.8.10"
  },
  "widgets": {
   "application/vnd.jupyter.widget-state+json": {
    "state": {},
    "version_major": 2,
    "version_minor": 0
   }
  }
 },
 "nbformat": 4,
 "nbformat_minor": 4
}
